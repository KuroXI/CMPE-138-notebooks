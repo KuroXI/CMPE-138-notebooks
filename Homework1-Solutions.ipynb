{
 "cells": [
  {
   "cell_type": "markdown",
   "metadata": {},
   "source": [
    "HOMEWORK 1 - Solutions\n",
    "--------------------------------"
   ]
  },
  {
   "cell_type": "markdown",
   "metadata": {},
   "source": [
    "Question 1: Create Database\n",
    "--------------------------"
   ]
  },
  {
   "cell_type": "code",
   "execution_count": 1,
   "metadata": {
    "collapsed": false
   },
   "outputs": [
    {
     "name": "stdout",
     "output_type": "stream",
     "text": [
      "Done.\n",
      "Done.\n",
      "Done.\n"
     ]
    },
    {
     "data": {
      "text/plain": [
       "[]"
      ]
     },
     "execution_count": 1,
     "metadata": {},
     "output_type": "execute_result"
    }
   ],
   "source": [
    "%load_ext sql\n",
    "%sql sqlite://\n",
    "%sql DROP TABLE IF EXISTS Catalog;\n",
    "%sql DROP TABLE IF EXISTS Suppliers;\n",
    "%sql DROP TABLE IF EXISTS Parts;"
   ]
  },
  {
   "cell_type": "markdown",
   "metadata": {},
   "source": [
    "Question 1: Create Tables\n",
    "--------------------------"
   ]
  },
  {
   "cell_type": "code",
   "execution_count": 2,
   "metadata": {
    "collapsed": false,
    "scrolled": true
   },
   "outputs": [
    {
     "name": "stdout",
     "output_type": "stream",
     "text": [
      "Done.\n",
      "Done.\n",
      "1 rows affected.\n",
      "1 rows affected.\n",
      "1 rows affected.\n",
      "1 rows affected.\n",
      "1 rows affected.\n",
      "1 rows affected.\n",
      "1 rows affected.\n",
      "1 rows affected.\n",
      "1 rows affected.\n"
     ]
    },
    {
     "data": {
      "text/plain": [
       "[]"
      ]
     },
     "execution_count": 2,
     "metadata": {},
     "output_type": "execute_result"
    }
   ],
   "source": [
    "%%sql drop table if exists Suppliers;\n",
    "CREATE TABLE Suppliers\n",
    "(\n",
    "    sid integer PRIMARY KEY,\n",
    "    sname   varchar(50),\n",
    "    address varchar(100)\n",
    ");\n",
    "\n",
    "INSERT INTO Suppliers VALUES(1, 'Bay Area Distributing', '1 Washington Square');\n",
    "INSERT INTO Suppliers VALUES(2, 'Ironworks Suppliers', '892 Concordia Blvd');\n",
    "INSERT INTO Suppliers VALUES(3, 'Capitol Wholesale Nursery, Inc.', '234 Fareview Street');\n",
    "INSERT INTO Suppliers VALUES(4, 'Parts and Stuff', \"123 Count Ave\");\n",
    "INSERT INTO Suppliers VALUES(5, 'Yosemite Sham', '221 Packer Street');\n",
    "INSERT INTO Suppliers VALUES(6, 'Candid Supply', '1108 Bonanza Ave');\n",
    "INSERT INTO Suppliers VALUES(7, 'Supplier Extraordinaire, LLC', '897 Benedict Court');\n",
    "INSERT INTO Suppliers VALUES(8, 'Any and All Parts, Inc.', '224 E Benevolence Street');\n",
    "INSERT INTO Suppliers VALUES(9, 'Acme Widget Suppliers', '1600 Pennsylvania Ave');"
   ]
  },
  {
   "cell_type": "code",
   "execution_count": 3,
   "metadata": {
    "collapsed": false
   },
   "outputs": [
    {
     "name": "stdout",
     "output_type": "stream",
     "text": [
      "Done.\n",
      "Done.\n",
      "1 rows affected.\n",
      "1 rows affected.\n",
      "1 rows affected.\n",
      "1 rows affected.\n",
      "1 rows affected.\n",
      "1 rows affected.\n",
      "1 rows affected.\n",
      "1 rows affected.\n",
      "1 rows affected.\n"
     ]
    },
    {
     "data": {
      "text/plain": [
       "[]"
      ]
     },
     "execution_count": 3,
     "metadata": {},
     "output_type": "execute_result"
    }
   ],
   "source": [
    "%%sql drop table if exists Parts;\n",
    "CREATE TABLE Parts\n",
    "(\n",
    "    pid integer PRIMARY KEY,\n",
    "    pname varchar(50),\n",
    "    color varchar(10)\n",
    ");\n",
    "\n",
    "INSERT INTO Parts VALUES(1, 'carburator', 'red');\n",
    "INSERT INTO Parts VALUES(2, 'solenoid', 'blue');\n",
    "INSERT INTO Parts VALUES(3, 'nut', 'green');\n",
    "INSERT INTO Parts VALUES(4, 'bolt', 'green');\n",
    "INSERT INTO Parts VALUES(5, 'screw', 'red');\n",
    "INSERT INTO Parts VALUES(6, 'cog', 'red');\n",
    "INSERT INTO Parts VALUES(7, 'cog', 'blue');\n",
    "INSERT INTO Parts VALUES(8, 'bolt', 'blue');\n",
    "INSERT INTO Parts VALUES(9, 'nut', 'red');"
   ]
  },
  {
   "cell_type": "code",
   "execution_count": 4,
   "metadata": {
    "collapsed": false
   },
   "outputs": [
    {
     "name": "stdout",
     "output_type": "stream",
     "text": [
      "Done.\n",
      "Done.\n",
      "1 rows affected.\n",
      "1 rows affected.\n",
      "1 rows affected.\n",
      "1 rows affected.\n",
      "1 rows affected.\n",
      "1 rows affected.\n",
      "1 rows affected.\n",
      "1 rows affected.\n",
      "1 rows affected.\n",
      "1 rows affected.\n",
      "1 rows affected.\n",
      "1 rows affected.\n",
      "1 rows affected.\n",
      "1 rows affected.\n",
      "1 rows affected.\n",
      "1 rows affected.\n",
      "1 rows affected.\n",
      "1 rows affected.\n",
      "1 rows affected.\n",
      "1 rows affected.\n",
      "1 rows affected.\n",
      "1 rows affected.\n",
      "1 rows affected.\n",
      "1 rows affected.\n",
      "1 rows affected.\n",
      "1 rows affected.\n",
      "1 rows affected.\n",
      "1 rows affected.\n",
      "1 rows affected.\n",
      "1 rows affected.\n",
      "1 rows affected.\n",
      "1 rows affected.\n",
      "1 rows affected.\n",
      "1 rows affected.\n",
      "1 rows affected.\n",
      "1 rows affected.\n",
      "1 rows affected.\n",
      "1 rows affected.\n",
      "1 rows affected.\n",
      "1 rows affected.\n",
      "1 rows affected.\n",
      "1 rows affected.\n",
      "1 rows affected.\n",
      "1 rows affected.\n",
      "1 rows affected.\n",
      "1 rows affected.\n",
      "1 rows affected.\n"
     ]
    },
    {
     "data": {
      "text/plain": [
       "[]"
      ]
     },
     "execution_count": 4,
     "metadata": {},
     "output_type": "execute_result"
    }
   ],
   "source": [
    "%%sql drop table if exists Catalog;\n",
    "CREATE TABLE Catalog\n",
    "(\n",
    "    sid  integer,\n",
    "    pid  integer,\n",
    "    cost real,\n",
    "    PRIMARY KEY(sid, pid),\n",
    "    FOREIGN KEY(sid) REFERENCES Suppliers(sid),\n",
    "    FOREIGN KEY(pid) REFERENCES Parts(pid)\n",
    ");\n",
    "\n",
    "INSERT INTO Catalog VALUES(1, 1, 1.5);\n",
    "INSERT INTO Catalog VALUES(1, 2, 2.75);\n",
    "INSERT INTO Catalog VALUES(1, 3, 2.25);\n",
    "INSERT INTO Catalog VALUES(1, 4, 4);\n",
    "INSERT INTO Catalog VALUES(1, 5, 4.5);\n",
    "INSERT INTO Catalog VALUES(1, 6, 2.75);\n",
    "INSERT INTO Catalog VALUES(1, 7, 5.75);\n",
    "INSERT INTO Catalog VALUES(1, 8, 5);\n",
    "INSERT INTO Catalog VALUES(2, 1, 1.5);\n",
    "INSERT INTO Catalog VALUES(2, 2, 2.9);\n",
    "INSERT INTO Catalog VALUES(2, 3, 4.9);\n",
    "INSERT INTO Catalog VALUES(2, 4, 2.7);\n",
    "INSERT INTO Catalog VALUES(2, 5, 2.25);\n",
    "INSERT INTO Catalog VALUES(3, 1, 1.25);\n",
    "INSERT INTO Catalog VALUES(3, 2, 22);\n",
    "INSERT INTO Catalog VALUES(3, 3, 13);\n",
    "INSERT INTO Catalog VALUES(3, 4, 41);\n",
    "INSERT INTO Catalog VALUES(3, 5, 5.4);\n",
    "INSERT INTO Catalog VALUES(3, 6, 6.2);\n",
    "INSERT INTO Catalog VALUES(3, 7, 16.7);\n",
    "INSERT INTO Catalog VALUES(4, 1, 11);\n",
    "INSERT INTO Catalog VALUES(4, 2, 12);\n",
    "INSERT INTO Catalog VALUES(4, 3, 3.2);\n",
    "INSERT INTO Catalog VALUES(4, 4, 4.5);\n",
    "INSERT INTO Catalog VALUES(4, 6, 61);\n",
    "INSERT INTO Catalog VALUES(5, 1, 1.5);\n",
    "INSERT INTO Catalog VALUES(5, 2, 24);\n",
    "INSERT INTO Catalog VALUES(5, 3, 3.75);\n",
    "INSERT INTO Catalog VALUES(5, 4, 2.4);\n",
    "INSERT INTO Catalog VALUES(6, 5, 5.5);\n",
    "INSERT INTO Catalog VALUES(6, 6, 5.6);\n",
    "INSERT INTO Catalog VALUES(6, 7, 17);\n",
    "INSERT INTO Catalog VALUES(6, 8, 5);\n",
    "INSERT INTO Catalog VALUES(7, 5, 2.5);\n",
    "INSERT INTO Catalog VALUES(7, 6, 26);\n",
    "INSERT INTO Catalog VALUES(7, 7, 7.25);\n",
    "INSERT INTO Catalog VALUES(8, 3, 4.45);\n",
    "INSERT INTO Catalog VALUES(8, 4, 7.15);\n",
    "INSERT INTO Catalog VALUES(9, 1, 31.2);\n",
    "INSERT INTO Catalog VALUES(9, 2, 2.95);\n",
    "INSERT INTO Catalog VALUES(9, 3, 2.15);\n",
    "INSERT INTO Catalog VALUES(9, 4, 4.3);\n",
    "INSERT INTO Catalog VALUES(9, 5, 4.15);\n",
    "INSERT INTO Catalog VALUES(9, 6, 2.45);\n",
    "INSERT INTO Catalog VALUES(9, 7, 5.25);\n",
    "INSERT INTO Catalog VALUES(9, 8, 5.2);\n",
    "INSERT INTO Catalog VALUES(9, 9, 20);\n"
   ]
  },
  {
   "cell_type": "markdown",
   "metadata": {},
   "source": [
    "Question 2: Describe the SQL Queries\n",
    "--------------------------"
   ]
  },
  {
   "cell_type": "markdown",
   "metadata": {},
   "source": [
    "**1.\tFind the pnames of parts for which there is some supplier.**\n"
   ]
  },
  {
   "cell_type": "code",
   "execution_count": 5,
   "metadata": {
    "collapsed": false
   },
   "outputs": [
    {
     "name": "stdout",
     "output_type": "stream",
     "text": [
      "Done.\n"
     ]
    },
    {
     "data": {
      "text/html": [
       "<table>\n",
       "    <tr>\n",
       "        <th>pname</th>\n",
       "    </tr>\n",
       "    <tr>\n",
       "        <td>carburator</td>\n",
       "    </tr>\n",
       "    <tr>\n",
       "        <td>solenoid</td>\n",
       "    </tr>\n",
       "    <tr>\n",
       "        <td>nut</td>\n",
       "    </tr>\n",
       "    <tr>\n",
       "        <td>bolt</td>\n",
       "    </tr>\n",
       "    <tr>\n",
       "        <td>screw</td>\n",
       "    </tr>\n",
       "    <tr>\n",
       "        <td>cog</td>\n",
       "    </tr>\n",
       "</table>"
      ],
      "text/plain": [
       "[(u'carburator',),\n",
       " (u'solenoid',),\n",
       " (u'nut',),\n",
       " (u'bolt',),\n",
       " (u'screw',),\n",
       " (u'cog',)]"
      ]
     },
     "execution_count": 5,
     "metadata": {},
     "output_type": "execute_result"
    }
   ],
   "source": [
    "%%sql\n",
    "SELECT DISTINCT p.pname\n",
    "FROM Parts p, Catalog c\n",
    "WHERE p.pid = c.pid"
   ]
  },
  {
   "cell_type": "markdown",
   "metadata": {},
   "source": [
    "** 2. Find the snames of suppliers who supply every part. **"
   ]
  },
  {
   "cell_type": "code",
   "execution_count": 6,
   "metadata": {
    "collapsed": false
   },
   "outputs": [
    {
     "name": "stdout",
     "output_type": "stream",
     "text": [
      "Done.\n"
     ]
    },
    {
     "data": {
      "text/html": [
       "<table>\n",
       "    <tr>\n",
       "        <th>sname</th>\n",
       "    </tr>\n",
       "    <tr>\n",
       "        <td>Acme Widget Suppliers</td>\n",
       "    </tr>\n",
       "</table>"
      ],
      "text/plain": [
       "[(u'Acme Widget Suppliers',)]"
      ]
     },
     "execution_count": 6,
     "metadata": {},
     "output_type": "execute_result"
    }
   ],
   "source": [
    "%%sql \n",
    "SELECT s.sname\n",
    "FROM Suppliers s\n",
    "WHERE NOT EXISTS ( SELECT p.pid\n",
    "                   FROM Parts p\n",
    "                   EXCEPT\n",
    "                   SELECT c.pid\n",
    "                   FROM Catalog c\n",
    "                   WHERE c.sid = s.sid \n",
    "                 )"
   ]
  },
  {
   "cell_type": "markdown",
   "metadata": {},
   "source": [
    "**3.\tFind the snames of suppliers who supply every red part.**"
   ]
  },
  {
   "cell_type": "code",
   "execution_count": 7,
   "metadata": {
    "collapsed": false
   },
   "outputs": [
    {
     "name": "stdout",
     "output_type": "stream",
     "text": [
      "Done.\n"
     ]
    },
    {
     "data": {
      "text/html": [
       "<table>\n",
       "    <tr>\n",
       "        <th>sname</th>\n",
       "    </tr>\n",
       "    <tr>\n",
       "        <td>Acme Widget Suppliers</td>\n",
       "    </tr>\n",
       "</table>"
      ],
      "text/plain": [
       "[(u'Acme Widget Suppliers',)]"
      ]
     },
     "execution_count": 7,
     "metadata": {},
     "output_type": "execute_result"
    }
   ],
   "source": [
    "%%sql\n",
    "SELECT s.sname\n",
    "FROM Suppliers s\n",
    "WHERE NOT EXISTS ( SELECT p.pid\n",
    "                   FROM Parts p\n",
    "                   WHERE p.color = 'red'\n",
    "                   EXCEPT\n",
    "                   SELECT c.pid\n",
    "                   FROM Catalog c, Parts p\n",
    "                   WHERE c.sid = s.sid AND c.pid = p.pid\n",
    "                                   AND p.color = 'red' )\n",
    "\n"
   ]
  },
  {
   "cell_type": "markdown",
   "metadata": {},
   "source": [
    "**4.\tFind the pnames of parts supplied by Acme Widget Suppliers and no one else. **"
   ]
  },
  {
   "cell_type": "code",
   "execution_count": 8,
   "metadata": {
    "collapsed": false
   },
   "outputs": [
    {
     "name": "stdout",
     "output_type": "stream",
     "text": [
      "Done.\n"
     ]
    },
    {
     "data": {
      "text/html": [
       "<table>\n",
       "    <tr>\n",
       "        <th>pname</th>\n",
       "    </tr>\n",
       "    <tr>\n",
       "        <td>nut</td>\n",
       "    </tr>\n",
       "</table>"
      ],
      "text/plain": [
       "[(u'nut',)]"
      ]
     },
     "execution_count": 8,
     "metadata": {},
     "output_type": "execute_result"
    }
   ],
   "source": [
    "%%sql \n",
    "SELECT p.pname\n",
    "FROM Parts p, Catalog c, Suppliers s\n",
    "WHERE p.pid = c.pid AND C.sid = S.sid\n",
    "               AND s.sname = 'Acme Widget Suppliers'\n",
    "               AND NOT EXISTS ( SELECT *\n",
    "                               FROM Catalog c1, Suppliers s1\n",
    "                               WHERE p.pid = c1.pid AND c1.sid = s1.sid\n",
    "                               AND s1.sname <> 'Acme Widget Suppliers' )\n"
   ]
  },
  {
   "cell_type": "markdown",
   "metadata": {},
   "source": [
    "** 5.\tFind the sids of suppliers who charge more for some part than the average cost of that part (averaged over all the suppliers who supply that part).**"
   ]
  },
  {
   "cell_type": "code",
   "execution_count": 9,
   "metadata": {
    "collapsed": false
   },
   "outputs": [
    {
     "name": "stdout",
     "output_type": "stream",
     "text": [
      "Done.\n"
     ]
    },
    {
     "data": {
      "text/html": [
       "<table>\n",
       "    <tr>\n",
       "        <th>sid</th>\n",
       "    </tr>\n",
       "    <tr>\n",
       "        <td>1</td>\n",
       "    </tr>\n",
       "    <tr>\n",
       "        <td>2</td>\n",
       "    </tr>\n",
       "    <tr>\n",
       "        <td>3</td>\n",
       "    </tr>\n",
       "    <tr>\n",
       "        <td>4</td>\n",
       "    </tr>\n",
       "    <tr>\n",
       "        <td>5</td>\n",
       "    </tr>\n",
       "    <tr>\n",
       "        <td>6</td>\n",
       "    </tr>\n",
       "    <tr>\n",
       "        <td>7</td>\n",
       "    </tr>\n",
       "    <tr>\n",
       "        <td>9</td>\n",
       "    </tr>\n",
       "</table>"
      ],
      "text/plain": [
       "[(1,), (2,), (3,), (4,), (5,), (6,), (7,), (9,)]"
      ]
     },
     "execution_count": 9,
     "metadata": {},
     "output_type": "execute_result"
    }
   ],
   "source": [
    "%%sql\n",
    "SELECT DISTINCT c.sid\n",
    "FROM Catalog c\n",
    "WHERE c.cost > ( SELECT AVG (c1.cost)\n",
    "                   FROM Catalog c1\n",
    "                   WHERE c1.pid = c.pid )\n"
   ]
  },
  {
   "cell_type": "markdown",
   "metadata": {},
   "source": [
    "**6.\tFor each part, find the sname of the supplier who charges the most for that part. **"
   ]
  },
  {
   "cell_type": "code",
   "execution_count": 10,
   "metadata": {
    "collapsed": false
   },
   "outputs": [
    {
     "name": "stdout",
     "output_type": "stream",
     "text": [
      "Done.\n"
     ]
    },
    {
     "data": {
      "text/html": [
       "<table>\n",
       "    <tr>\n",
       "        <th>pid</th>\n",
       "        <th>sname</th>\n",
       "    </tr>\n",
       "    <tr>\n",
       "        <td>3</td>\n",
       "        <td>Capitol Wholesale Nursery, Inc.</td>\n",
       "    </tr>\n",
       "    <tr>\n",
       "        <td>4</td>\n",
       "        <td>Capitol Wholesale Nursery, Inc.</td>\n",
       "    </tr>\n",
       "    <tr>\n",
       "        <td>6</td>\n",
       "        <td>Parts and Stuff</td>\n",
       "    </tr>\n",
       "    <tr>\n",
       "        <td>2</td>\n",
       "        <td>Yosemite Sham</td>\n",
       "    </tr>\n",
       "    <tr>\n",
       "        <td>5</td>\n",
       "        <td>Candid Supply</td>\n",
       "    </tr>\n",
       "    <tr>\n",
       "        <td>7</td>\n",
       "        <td>Candid Supply</td>\n",
       "    </tr>\n",
       "    <tr>\n",
       "        <td>1</td>\n",
       "        <td>Acme Widget Suppliers</td>\n",
       "    </tr>\n",
       "    <tr>\n",
       "        <td>8</td>\n",
       "        <td>Acme Widget Suppliers</td>\n",
       "    </tr>\n",
       "    <tr>\n",
       "        <td>9</td>\n",
       "        <td>Acme Widget Suppliers</td>\n",
       "    </tr>\n",
       "</table>"
      ],
      "text/plain": [
       "[(3, u'Capitol Wholesale Nursery, Inc.'),\n",
       " (4, u'Capitol Wholesale Nursery, Inc.'),\n",
       " (6, u'Parts and Stuff'),\n",
       " (2, u'Yosemite Sham'),\n",
       " (5, u'Candid Supply'),\n",
       " (7, u'Candid Supply'),\n",
       " (1, u'Acme Widget Suppliers'),\n",
       " (8, u'Acme Widget Suppliers'),\n",
       " (9, u'Acme Widget Suppliers')]"
      ]
     },
     "execution_count": 10,
     "metadata": {},
     "output_type": "execute_result"
    }
   ],
   "source": [
    "%%sql\n",
    "SELECT p.pid, s.sname\n",
    "FROM Parts p, Suppliers s, Catalog c\n",
    "WHERE C.pid = P.pid\n",
    "AND C.sid = S.sid\n",
    "AND C.cost = ( SELECT MAX (c1.cost)\n",
    "                  FROM Catalog c1\n",
    "                  WHERE c1.pid = p.pid )\n"
   ]
  },
  {
   "cell_type": "markdown",
   "metadata": {},
   "source": [
    "**7.\tFind the sids of suppliers who supply only red parts. **"
   ]
  },
  {
   "cell_type": "code",
   "execution_count": 11,
   "metadata": {
    "collapsed": false
   },
   "outputs": [
    {
     "name": "stdout",
     "output_type": "stream",
     "text": [
      "Done.\n"
     ]
    },
    {
     "data": {
      "text/html": [
       "<table>\n",
       "    <tr>\n",
       "        <th>sid</th>\n",
       "    </tr>\n",
       "    <tr>\n",
       "        <td>1</td>\n",
       "    </tr>\n",
       "    <tr>\n",
       "        <td>2</td>\n",
       "    </tr>\n",
       "    <tr>\n",
       "        <td>3</td>\n",
       "    </tr>\n",
       "    <tr>\n",
       "        <td>4</td>\n",
       "    </tr>\n",
       "    <tr>\n",
       "        <td>5</td>\n",
       "    </tr>\n",
       "    <tr>\n",
       "        <td>6</td>\n",
       "    </tr>\n",
       "    <tr>\n",
       "        <td>7</td>\n",
       "    </tr>\n",
       "    <tr>\n",
       "        <td>9</td>\n",
       "    </tr>\n",
       "</table>"
      ],
      "text/plain": [
       "[(1,), (2,), (3,), (4,), (5,), (6,), (7,), (9,)]"
      ]
     },
     "execution_count": 11,
     "metadata": {},
     "output_type": "execute_result"
    }
   ],
   "source": [
    "%%sql\n",
    "SELECT DISTINCT c.sid\n",
    "FROM Catalog c\n",
    "WHERE NOT EXISTS (SELECT * FROM Parts p\n",
    "                  WHERE p.pid = c.pid AND p.color <> 'red')\n",
    "\n"
   ]
  },
  {
   "cell_type": "markdown",
   "metadata": {},
   "source": [
    "**8.\tFind the sids of suppliers who supply a red part and a green part. **"
   ]
  },
  {
   "cell_type": "code",
   "execution_count": 12,
   "metadata": {
    "collapsed": false
   },
   "outputs": [
    {
     "name": "stdout",
     "output_type": "stream",
     "text": [
      "Done.\n"
     ]
    },
    {
     "data": {
      "text/html": [
       "<table>\n",
       "    <tr>\n",
       "        <th>sid</th>\n",
       "    </tr>\n",
       "    <tr>\n",
       "        <td>1</td>\n",
       "    </tr>\n",
       "    <tr>\n",
       "        <td>2</td>\n",
       "    </tr>\n",
       "    <tr>\n",
       "        <td>3</td>\n",
       "    </tr>\n",
       "    <tr>\n",
       "        <td>4</td>\n",
       "    </tr>\n",
       "    <tr>\n",
       "        <td>5</td>\n",
       "    </tr>\n",
       "    <tr>\n",
       "        <td>9</td>\n",
       "    </tr>\n",
       "</table>"
      ],
      "text/plain": [
       "[(1,), (2,), (3,), (4,), (5,), (9,)]"
      ]
     },
     "execution_count": 12,
     "metadata": {},
     "output_type": "execute_result"
    }
   ],
   "source": [
    "%%sql\n",
    "SELECT DISTINCT c.sid \n",
    "FROM Catalog c, Parts p\n",
    "WHERE c.pid = p.pid AND p.color = 'red'\n",
    "INTERSECT\n",
    "SELECT DISTINCT c1.sid\n",
    "FROM Catalog c1, parts p1\n",
    "WHERE C1.pid = p1.pid AND p1.color = 'green'\n"
   ]
  },
  {
   "cell_type": "markdown",
   "metadata": {},
   "source": [
    "**9.\tFind the sids of suppliers who supply a red part or a green part. **"
   ]
  },
  {
   "cell_type": "code",
   "execution_count": 13,
   "metadata": {
    "collapsed": false
   },
   "outputs": [
    {
     "name": "stdout",
     "output_type": "stream",
     "text": [
      "Done.\n"
     ]
    },
    {
     "data": {
      "text/html": [
       "<table>\n",
       "    <tr>\n",
       "        <th>sid</th>\n",
       "    </tr>\n",
       "    <tr>\n",
       "        <td>1</td>\n",
       "    </tr>\n",
       "    <tr>\n",
       "        <td>2</td>\n",
       "    </tr>\n",
       "    <tr>\n",
       "        <td>3</td>\n",
       "    </tr>\n",
       "    <tr>\n",
       "        <td>4</td>\n",
       "    </tr>\n",
       "    <tr>\n",
       "        <td>5</td>\n",
       "    </tr>\n",
       "    <tr>\n",
       "        <td>6</td>\n",
       "    </tr>\n",
       "    <tr>\n",
       "        <td>7</td>\n",
       "    </tr>\n",
       "    <tr>\n",
       "        <td>8</td>\n",
       "    </tr>\n",
       "    <tr>\n",
       "        <td>9</td>\n",
       "    </tr>\n",
       "</table>"
      ],
      "text/plain": [
       "[(1,), (2,), (3,), (4,), (5,), (6,), (7,), (8,), (9,)]"
      ]
     },
     "execution_count": 13,
     "metadata": {},
     "output_type": "execute_result"
    }
   ],
   "source": [
    "%%sql\n",
    "SELECT DISTINCT c.sid\n",
    "FROM Catalog c, Parts p\n",
    "WHERE c.pid = p.pid AND p.color = 'red'\n",
    "UNION\n",
    "SELECT DISTINCT c1.sid\n",
    "FROM Catalog c1, parts p1\n",
    "WHERE C1.pid = p1.pid AND p1.color = 'green'\n"
   ]
  },
  {
   "cell_type": "markdown",
   "metadata": {},
   "source": [
    "**10.\tFor every supplier that only supplies green parts, print the name of the supplier and the total number of parts that she supplies. **"
   ]
  },
  {
   "cell_type": "code",
   "execution_count": 14,
   "metadata": {
    "collapsed": false
   },
   "outputs": [
    {
     "name": "stdout",
     "output_type": "stream",
     "text": [
      "Done.\n"
     ]
    },
    {
     "data": {
      "text/html": [
       "<table>\n",
       "    <tr>\n",
       "        <th>sname</th>\n",
       "        <th>PartCount</th>\n",
       "    </tr>\n",
       "    <tr>\n",
       "        <td>Any and All Parts, Inc.</td>\n",
       "        <td>2</td>\n",
       "    </tr>\n",
       "</table>"
      ],
      "text/plain": [
       "[(u'Any and All Parts, Inc.', 2)]"
      ]
     },
     "execution_count": 14,
     "metadata": {},
     "output_type": "execute_result"
    }
   ],
   "source": [
    "%%sql\n",
    "/** Original query does not work in SQLite.\n",
    "SELECT s.sname, COUNT(*) as PartCount \n",
    "FROM Suppliers s, Parts p, Catalog c \n",
    "WHERE p.pid = c.pid AND c.sid = s.sid\n",
    "GROUP BY s.sname, s.sid\n",
    "HAVING EVERY ( p.color = 'green' ) \n",
    "\n",
    "Rewrite query as:\n",
    "**/\n",
    "SELECT s.sname, COUNT(*) as PartCount\n",
    "FROM Suppliers s, Parts p, Catalog c \n",
    "WHERE p.pid = c.pid AND c.sid = s.sid \n",
    "AND p.color = 'green' \n",
    "AND s.sid NOT IN\n",
    "(SELECT s2.sid\n",
    " FROM Suppliers s2, Parts p2, Catalog c2 \n",
    " WHERE p2.pid = c2.pid AND c2.sid = s2.sid\n",
    " AND p2.color <> 'green' )\n",
    "GROUP BY s.sname, s.sid\n"
   ]
  },
  {
   "cell_type": "markdown",
   "metadata": {},
   "source": [
    "**11.\tFor every supplier that supplies a green part and a red part, print the name and price of the most expensive part that she supplies. **"
   ]
  },
  {
   "cell_type": "code",
   "execution_count": 15,
   "metadata": {
    "collapsed": false
   },
   "outputs": [
    {
     "name": "stdout",
     "output_type": "stream",
     "text": [
      "Done.\n"
     ]
    },
    {
     "data": {
      "text/html": [
       "<table>\n",
       "    <tr>\n",
       "        <th>sname</th>\n",
       "        <th>MaxCost</th>\n",
       "    </tr>\n",
       "    <tr>\n",
       "        <td>Bay Area Distributing</td>\n",
       "        <td>5.75</td>\n",
       "    </tr>\n",
       "    <tr>\n",
       "        <td>Ironworks Suppliers</td>\n",
       "        <td>4.9</td>\n",
       "    </tr>\n",
       "    <tr>\n",
       "        <td>Capitol Wholesale Nursery, Inc.</td>\n",
       "        <td>41.0</td>\n",
       "    </tr>\n",
       "    <tr>\n",
       "        <td>Parts and Stuff</td>\n",
       "        <td>61.0</td>\n",
       "    </tr>\n",
       "    <tr>\n",
       "        <td>Yosemite Sham</td>\n",
       "        <td>24.0</td>\n",
       "    </tr>\n",
       "    <tr>\n",
       "        <td>Acme Widget Suppliers</td>\n",
       "        <td>31.2</td>\n",
       "    </tr>\n",
       "</table>"
      ],
      "text/plain": [
       "[(u'Bay Area Distributing', 5.75),\n",
       " (u'Ironworks Suppliers', 4.9),\n",
       " (u'Capitol Wholesale Nursery, Inc.', 41.0),\n",
       " (u'Parts and Stuff', 61.0),\n",
       " (u'Yosemite Sham', 24.0),\n",
       " (u'Acme Widget Suppliers', 31.2)]"
      ]
     },
     "execution_count": 15,
     "metadata": {},
     "output_type": "execute_result"
    }
   ],
   "source": [
    "%%sql\n",
    "/** Original query does not work in SQLite.\n",
    "SELECT s.sname, MAX(c.cost) as MaxCost\n",
    "FROM Suppliers s, Parts p, Catalog c\n",
    "WHERE p.pid = c.pid AND c.sid = s.sid\n",
    "GROUP BY s.sname, s.sid\n",
    "HAVING ANY ( p.color = 'green' ) AND ANY ( p.color = 'red' )\n",
    "\n",
    "Rewrite query as:\n",
    "**/\n",
    "\n",
    "SELECT s.sname, MAX(c.cost) as MaxCost\n",
    "FROM Suppliers s, Parts p, Catalog c\n",
    "WHERE p.pid = c.pid AND c.sid = s.sid\n",
    "AND s.sid IN \n",
    "(SELECT DISTINCT c2.sid\n",
    " FROM Parts p2, Parts p3, Catalog c2, Catalog c3\n",
    " WHERE p2.pid = c2.pid AND c2.sid = c3.sid AND p2.color = 'red'\n",
    " AND p3.pid = c3.pid AND p3.color = 'green'\n",
    ")\n",
    "GROUP BY s.sname, s.sid\n"
   ]
  },
  {
   "cell_type": "markdown",
   "metadata": {},
   "source": [
    "Question 3: Write SQL Queries\n",
    "--------------------------"
   ]
  },
  {
   "cell_type": "markdown",
   "metadata": {},
   "source": [
    "** 1) Find the names of suppliers who supply some red part. **"
   ]
  },
  {
   "cell_type": "code",
   "execution_count": 16,
   "metadata": {
    "collapsed": false
   },
   "outputs": [
    {
     "name": "stdout",
     "output_type": "stream",
     "text": [
      "Done.\n"
     ]
    },
    {
     "data": {
      "text/html": [
       "<table>\n",
       "    <tr>\n",
       "        <th>sname</th>\n",
       "    </tr>\n",
       "    <tr>\n",
       "        <td>Bay Area Distributing</td>\n",
       "    </tr>\n",
       "    <tr>\n",
       "        <td>Ironworks Suppliers</td>\n",
       "    </tr>\n",
       "    <tr>\n",
       "        <td>Capitol Wholesale Nursery, Inc.</td>\n",
       "    </tr>\n",
       "    <tr>\n",
       "        <td>Parts and Stuff</td>\n",
       "    </tr>\n",
       "    <tr>\n",
       "        <td>Yosemite Sham</td>\n",
       "    </tr>\n",
       "    <tr>\n",
       "        <td>Candid Supply</td>\n",
       "    </tr>\n",
       "    <tr>\n",
       "        <td>Supplier Extraordinaire, LLC</td>\n",
       "    </tr>\n",
       "    <tr>\n",
       "        <td>Acme Widget Suppliers</td>\n",
       "    </tr>\n",
       "</table>"
      ],
      "text/plain": [
       "[(u'Bay Area Distributing',),\n",
       " (u'Ironworks Suppliers',),\n",
       " (u'Capitol Wholesale Nursery, Inc.',),\n",
       " (u'Parts and Stuff',),\n",
       " (u'Yosemite Sham',),\n",
       " (u'Candid Supply',),\n",
       " (u'Supplier Extraordinaire, LLC',),\n",
       " (u'Acme Widget Suppliers',)]"
      ]
     },
     "execution_count": 16,
     "metadata": {},
     "output_type": "execute_result"
    }
   ],
   "source": [
    "%%sql\n",
    "SELECT DISTINCT s.sname\n",
    "FROM Suppliers s, Parts p, Catalog c\n",
    "WHERE p.color = 'red' AND c.sid = s.sid AND c.pid = p.pid"
   ]
  },
  {
   "cell_type": "markdown",
   "metadata": {},
   "source": [
    "** 2) Find the sids of suppliers who supply some red or green part. **"
   ]
  },
  {
   "cell_type": "code",
   "execution_count": 17,
   "metadata": {
    "collapsed": false
   },
   "outputs": [
    {
     "name": "stdout",
     "output_type": "stream",
     "text": [
      "Done.\n"
     ]
    },
    {
     "data": {
      "text/html": [
       "<table>\n",
       "    <tr>\n",
       "        <th>sid</th>\n",
       "    </tr>\n",
       "    <tr>\n",
       "        <td>1</td>\n",
       "    </tr>\n",
       "    <tr>\n",
       "        <td>2</td>\n",
       "    </tr>\n",
       "    <tr>\n",
       "        <td>3</td>\n",
       "    </tr>\n",
       "    <tr>\n",
       "        <td>4</td>\n",
       "    </tr>\n",
       "    <tr>\n",
       "        <td>5</td>\n",
       "    </tr>\n",
       "    <tr>\n",
       "        <td>6</td>\n",
       "    </tr>\n",
       "    <tr>\n",
       "        <td>7</td>\n",
       "    </tr>\n",
       "    <tr>\n",
       "        <td>8</td>\n",
       "    </tr>\n",
       "    <tr>\n",
       "        <td>9</td>\n",
       "    </tr>\n",
       "</table>"
      ],
      "text/plain": [
       "[(1,), (2,), (3,), (4,), (5,), (6,), (7,), (8,), (9,)]"
      ]
     },
     "execution_count": 17,
     "metadata": {},
     "output_type": "execute_result"
    }
   ],
   "source": [
    "%%sql\n",
    "SELECT DISTINCT c.sid\n",
    "FROM Parts p, Catalog c\n",
    "WHERE p.pid = c.pid AND (p.color = 'red' OR p.color = 'green')"
   ]
  },
  {
   "cell_type": "markdown",
   "metadata": {},
   "source": [
    "** 3) Find the sids of suppliers who supply some red part or are at 221 Packer Street. **"
   ]
  },
  {
   "cell_type": "code",
   "execution_count": 18,
   "metadata": {
    "collapsed": false
   },
   "outputs": [
    {
     "name": "stdout",
     "output_type": "stream",
     "text": [
      "Done.\n"
     ]
    },
    {
     "data": {
      "text/html": [
       "<table>\n",
       "    <tr>\n",
       "        <th>sid</th>\n",
       "    </tr>\n",
       "    <tr>\n",
       "        <td>1</td>\n",
       "    </tr>\n",
       "    <tr>\n",
       "        <td>2</td>\n",
       "    </tr>\n",
       "    <tr>\n",
       "        <td>3</td>\n",
       "    </tr>\n",
       "    <tr>\n",
       "        <td>4</td>\n",
       "    </tr>\n",
       "    <tr>\n",
       "        <td>5</td>\n",
       "    </tr>\n",
       "    <tr>\n",
       "        <td>6</td>\n",
       "    </tr>\n",
       "    <tr>\n",
       "        <td>7</td>\n",
       "    </tr>\n",
       "    <tr>\n",
       "        <td>9</td>\n",
       "    </tr>\n",
       "</table>"
      ],
      "text/plain": [
       "[(1,), (2,), (3,), (4,), (5,), (6,), (7,), (9,)]"
      ]
     },
     "execution_count": 18,
     "metadata": {},
     "output_type": "execute_result"
    }
   ],
   "source": [
    "%%sql\n",
    "SELECT DISTINCT s.sid\n",
    "FROM Suppliers s\n",
    "WHERE s.address = '221 Packer Street'\n",
    "OR s.sid IN (\n",
    "    SELECT c.sid\n",
    "    FROM Parts p, Catalog c\n",
    "    WHERE p.color = 'red' AND p.pid = c.pid\n",
    ")"
   ]
  },
  {
   "cell_type": "markdown",
   "metadata": {},
   "source": [
    "** 4) Find the sids of suppliers who supply some red part and some green part. **"
   ]
  },
  {
   "cell_type": "code",
   "execution_count": 19,
   "metadata": {
    "collapsed": false
   },
   "outputs": [
    {
     "name": "stdout",
     "output_type": "stream",
     "text": [
      "Done.\n"
     ]
    },
    {
     "data": {
      "text/html": [
       "<table>\n",
       "    <tr>\n",
       "        <th>sid</th>\n",
       "    </tr>\n",
       "    <tr>\n",
       "        <td>1</td>\n",
       "    </tr>\n",
       "    <tr>\n",
       "        <td>2</td>\n",
       "    </tr>\n",
       "    <tr>\n",
       "        <td>3</td>\n",
       "    </tr>\n",
       "    <tr>\n",
       "        <td>4</td>\n",
       "    </tr>\n",
       "    <tr>\n",
       "        <td>5</td>\n",
       "    </tr>\n",
       "    <tr>\n",
       "        <td>9</td>\n",
       "    </tr>\n",
       "</table>"
      ],
      "text/plain": [
       "[(1,), (2,), (3,), (4,), (5,), (9,)]"
      ]
     },
     "execution_count": 19,
     "metadata": {},
     "output_type": "execute_result"
    }
   ],
   "source": [
    "%%sql\n",
    "SELECT DISTINCT c.sid\n",
    "FROM Parts p, Parts p2, Catalog c, Catalog c2\n",
    "WHERE p.pid = c.pid AND c.sid = c2.sid AND p.color = 'red'\n",
    "AND p2.pid = c2.pid AND p2.color = 'green'\n"
   ]
  },
  {
   "cell_type": "markdown",
   "metadata": {},
   "source": [
    "** 5) Find the sids of suppliers who supply every part. **"
   ]
  },
  {
   "cell_type": "code",
   "execution_count": 20,
   "metadata": {
    "collapsed": false
   },
   "outputs": [
    {
     "name": "stdout",
     "output_type": "stream",
     "text": [
      "Done.\n"
     ]
    },
    {
     "data": {
      "text/html": [
       "<table>\n",
       "    <tr>\n",
       "        <th>sid</th>\n",
       "    </tr>\n",
       "    <tr>\n",
       "        <td>9</td>\n",
       "    </tr>\n",
       "</table>"
      ],
      "text/plain": [
       "[(9,)]"
      ]
     },
     "execution_count": 20,
     "metadata": {},
     "output_type": "execute_result"
    }
   ],
   "source": [
    "%%sql\n",
    "SELECT DISTINCT s.sid\n",
    "FROM Suppliers s\n",
    "WHERE NOT EXISTS (\n",
    "    SELECT p.pid\n",
    "    FROM Parts p \n",
    "    EXCEPT \n",
    "    SELECT c.pid\n",
    "    FROM Catalog c\n",
    "    WHERE c.sid = s.sid\n",
    ")"
   ]
  },
  {
   "cell_type": "markdown",
   "metadata": {},
   "source": [
    "** 6) Find the sids of suppliers who supply every red part. **"
   ]
  },
  {
   "cell_type": "code",
   "execution_count": 21,
   "metadata": {
    "collapsed": false
   },
   "outputs": [
    {
     "name": "stdout",
     "output_type": "stream",
     "text": [
      "Done.\n"
     ]
    },
    {
     "data": {
      "text/html": [
       "<table>\n",
       "    <tr>\n",
       "        <th>sid</th>\n",
       "    </tr>\n",
       "    <tr>\n",
       "        <td>9</td>\n",
       "    </tr>\n",
       "</table>"
      ],
      "text/plain": [
       "[(9,)]"
      ]
     },
     "execution_count": 21,
     "metadata": {},
     "output_type": "execute_result"
    }
   ],
   "source": [
    "%%sql\n",
    "SELECT DISTINCT s.sid\n",
    "FROM Suppliers s\n",
    "WHERE NOT EXISTS (\n",
    "    SELECT p.pid\n",
    "    FROM Parts p\n",
    "    WHERE p.color = 'red'\n",
    "    EXCEPT\n",
    "    SELECT c.pid\n",
    "    FROM Catalog c, Parts p2\n",
    "    WHERE c.sid = s.sid\n",
    "    AND c.pid = p2.pid\n",
    "    AND p2.color = 'red'\n",
    ")"
   ]
  },
  {
   "cell_type": "markdown",
   "metadata": {},
   "source": [
    "** 7) Find the sids of suppliers who supply every red or green part. **"
   ]
  },
  {
   "cell_type": "code",
   "execution_count": 22,
   "metadata": {
    "collapsed": false
   },
   "outputs": [
    {
     "name": "stdout",
     "output_type": "stream",
     "text": [
      "Done.\n"
     ]
    },
    {
     "data": {
      "text/html": [
       "<table>\n",
       "    <tr>\n",
       "        <th>sid</th>\n",
       "    </tr>\n",
       "    <tr>\n",
       "        <td>9</td>\n",
       "    </tr>\n",
       "</table>"
      ],
      "text/plain": [
       "[(9,)]"
      ]
     },
     "execution_count": 22,
     "metadata": {},
     "output_type": "execute_result"
    }
   ],
   "source": [
    "%%sql\n",
    "SELECT DISTINCT c.sid\n",
    "FROM Catalog c\n",
    "WHERE NOT EXISTS (\n",
    "    SELECT p.pid\n",
    "    FROM Parts p\n",
    "    WHERE (p.color = 'red' OR p.color = 'green')\n",
    "    AND ( NOT EXISTS (\n",
    "            SELECT c2.sid\n",
    "            FROM Catalog c2\n",
    "            WHERE c2.sid = c.sid\n",
    "            AND c2.pid = p.pid\n",
    "    )))"
   ]
  },
  {
   "cell_type": "markdown",
   "metadata": {},
   "source": [
    "** 8) Find the sids of suppliers who supply every red part or supply every green part. **"
   ]
  },
  {
   "cell_type": "code",
   "execution_count": 23,
   "metadata": {
    "collapsed": false
   },
   "outputs": [
    {
     "name": "stdout",
     "output_type": "stream",
     "text": [
      "Done.\n"
     ]
    },
    {
     "data": {
      "text/html": [
       "<table>\n",
       "    <tr>\n",
       "        <th>sid</th>\n",
       "    </tr>\n",
       "    <tr>\n",
       "        <td>1</td>\n",
       "    </tr>\n",
       "    <tr>\n",
       "        <td>2</td>\n",
       "    </tr>\n",
       "    <tr>\n",
       "        <td>3</td>\n",
       "    </tr>\n",
       "    <tr>\n",
       "        <td>4</td>\n",
       "    </tr>\n",
       "    <tr>\n",
       "        <td>5</td>\n",
       "    </tr>\n",
       "    <tr>\n",
       "        <td>8</td>\n",
       "    </tr>\n",
       "    <tr>\n",
       "        <td>9</td>\n",
       "    </tr>\n",
       "</table>"
      ],
      "text/plain": [
       "[(1,), (2,), (3,), (4,), (5,), (8,), (9,)]"
      ]
     },
     "execution_count": 23,
     "metadata": {},
     "output_type": "execute_result"
    }
   ],
   "source": [
    "%%sql\n",
    "SELECT DISTINCT s.sid\n",
    "FROM Suppliers s\n",
    "WHERE NOT EXISTS (\n",
    "        SELECT p.pid\n",
    "        FROM Parts p\n",
    "        WHERE p.color = 'red'\n",
    "    EXCEPT\n",
    "        SELECT c.pid\n",
    "        FROM Catalog c, Parts p2\n",
    "        WHERE c.sid = s.sid\n",
    "        AND c.pid = p2.pid\n",
    "        AND p2.color = 'red'\n",
    ")\n",
    "UNION\n",
    "SELECT DISTINCT s2.sid\n",
    "FROM Suppliers s2\n",
    "WHERE NOT EXISTS (\n",
    "        SELECT p3.pid\n",
    "        FROM Parts p3\n",
    "        WHERE p3.color = 'green'\n",
    "    EXCEPT\n",
    "        SELECT c2.pid\n",
    "        FROM Catalog c2, Parts p4\n",
    "        WHERE c2.sid = s2.sid\n",
    "        AND c2.pid = p4.pid\n",
    "        AND p4.color = 'green'\n",
    ")"
   ]
  },
  {
   "cell_type": "markdown",
   "metadata": {},
   "source": [
    "** 9) Find pairs of sids such that the supplier with the first sid charges more for some part than the supplier with the second sid. **"
   ]
  },
  {
   "cell_type": "code",
   "execution_count": 24,
   "metadata": {
    "collapsed": false
   },
   "outputs": [
    {
     "name": "stdout",
     "output_type": "stream",
     "text": [
      "Done.\n"
     ]
    },
    {
     "data": {
      "text/html": [
       "<table>\n",
       "    <tr>\n",
       "        <th>sid1</th>\n",
       "        <th>sid2</th>\n",
       "    </tr>\n",
       "    <tr>\n",
       "        <td>1</td>\n",
       "        <td>3</td>\n",
       "    </tr>\n",
       "    <tr>\n",
       "        <td>1</td>\n",
       "        <td>9</td>\n",
       "    </tr>\n",
       "    <tr>\n",
       "        <td>1</td>\n",
       "        <td>2</td>\n",
       "    </tr>\n",
       "    <tr>\n",
       "        <td>1</td>\n",
       "        <td>5</td>\n",
       "    </tr>\n",
       "    <tr>\n",
       "        <td>1</td>\n",
       "        <td>2</td>\n",
       "    </tr>\n",
       "    <tr>\n",
       "        <td>1</td>\n",
       "        <td>7</td>\n",
       "    </tr>\n",
       "    <tr>\n",
       "        <td>1</td>\n",
       "        <td>9</td>\n",
       "    </tr>\n",
       "    <tr>\n",
       "        <td>1</td>\n",
       "        <td>9</td>\n",
       "    </tr>\n",
       "    <tr>\n",
       "        <td>1</td>\n",
       "        <td>9</td>\n",
       "    </tr>\n",
       "    <tr>\n",
       "        <td>2</td>\n",
       "        <td>3</td>\n",
       "    </tr>\n",
       "    <tr>\n",
       "        <td>2</td>\n",
       "        <td>1</td>\n",
       "    </tr>\n",
       "    <tr>\n",
       "        <td>2</td>\n",
       "        <td>1</td>\n",
       "    </tr>\n",
       "    <tr>\n",
       "        <td>2</td>\n",
       "        <td>4</td>\n",
       "    </tr>\n",
       "    <tr>\n",
       "        <td>2</td>\n",
       "        <td>5</td>\n",
       "    </tr>\n",
       "    <tr>\n",
       "        <td>2</td>\n",
       "        <td>8</td>\n",
       "    </tr>\n",
       "    <tr>\n",
       "        <td>2</td>\n",
       "        <td>9</td>\n",
       "    </tr>\n",
       "    <tr>\n",
       "        <td>2</td>\n",
       "        <td>5</td>\n",
       "    </tr>\n",
       "    <tr>\n",
       "        <td>3</td>\n",
       "        <td>1</td>\n",
       "    </tr>\n",
       "    <tr>\n",
       "        <td>3</td>\n",
       "        <td>2</td>\n",
       "    </tr>\n",
       "    <tr>\n",
       "        <td>3</td>\n",
       "        <td>4</td>\n",
       "    </tr>\n",
       "    <tr>\n",
       "        <td>3</td>\n",
       "        <td>9</td>\n",
       "    </tr>\n",
       "    <tr>\n",
       "        <td>3</td>\n",
       "        <td>1</td>\n",
       "    </tr>\n",
       "    <tr>\n",
       "        <td>3</td>\n",
       "        <td>2</td>\n",
       "    </tr>\n",
       "    <tr>\n",
       "        <td>3</td>\n",
       "        <td>4</td>\n",
       "    </tr>\n",
       "    <tr>\n",
       "        <td>3</td>\n",
       "        <td>5</td>\n",
       "    </tr>\n",
       "    <tr>\n",
       "        <td>3</td>\n",
       "        <td>8</td>\n",
       "    </tr>\n",
       "    <tr>\n",
       "        <td>3</td>\n",
       "        <td>9</td>\n",
       "    </tr>\n",
       "    <tr>\n",
       "        <td>3</td>\n",
       "        <td>1</td>\n",
       "    </tr>\n",
       "    <tr>\n",
       "        <td>3</td>\n",
       "        <td>2</td>\n",
       "    </tr>\n",
       "    <tr>\n",
       "        <td>3</td>\n",
       "        <td>4</td>\n",
       "    </tr>\n",
       "    <tr>\n",
       "        <td>3</td>\n",
       "        <td>5</td>\n",
       "    </tr>\n",
       "    <tr>\n",
       "        <td>3</td>\n",
       "        <td>8</td>\n",
       "    </tr>\n",
       "    <tr>\n",
       "        <td>3</td>\n",
       "        <td>9</td>\n",
       "    </tr>\n",
       "    <tr>\n",
       "        <td>3</td>\n",
       "        <td>1</td>\n",
       "    </tr>\n",
       "    <tr>\n",
       "        <td>3</td>\n",
       "        <td>2</td>\n",
       "    </tr>\n",
       "    <tr>\n",
       "        <td>3</td>\n",
       "        <td>7</td>\n",
       "    </tr>\n",
       "    <tr>\n",
       "        <td>3</td>\n",
       "        <td>9</td>\n",
       "    </tr>\n",
       "    <tr>\n",
       "        <td>3</td>\n",
       "        <td>1</td>\n",
       "    </tr>\n",
       "    <tr>\n",
       "        <td>3</td>\n",
       "        <td>6</td>\n",
       "    </tr>\n",
       "    <tr>\n",
       "        <td>3</td>\n",
       "        <td>9</td>\n",
       "    </tr>\n",
       "    <tr>\n",
       "        <td>3</td>\n",
       "        <td>1</td>\n",
       "    </tr>\n",
       "    <tr>\n",
       "        <td>3</td>\n",
       "        <td>7</td>\n",
       "    </tr>\n",
       "    <tr>\n",
       "        <td>3</td>\n",
       "        <td>9</td>\n",
       "    </tr>\n",
       "    <tr>\n",
       "        <td>4</td>\n",
       "        <td>1</td>\n",
       "    </tr>\n",
       "    <tr>\n",
       "        <td>4</td>\n",
       "        <td>2</td>\n",
       "    </tr>\n",
       "    <tr>\n",
       "        <td>4</td>\n",
       "        <td>3</td>\n",
       "    </tr>\n",
       "    <tr>\n",
       "        <td>4</td>\n",
       "        <td>5</td>\n",
       "    </tr>\n",
       "    <tr>\n",
       "        <td>4</td>\n",
       "        <td>1</td>\n",
       "    </tr>\n",
       "    <tr>\n",
       "        <td>4</td>\n",
       "        <td>2</td>\n",
       "    </tr>\n",
       "    <tr>\n",
       "        <td>4</td>\n",
       "        <td>9</td>\n",
       "    </tr>\n",
       "    <tr>\n",
       "        <td>4</td>\n",
       "        <td>1</td>\n",
       "    </tr>\n",
       "    <tr>\n",
       "        <td>4</td>\n",
       "        <td>9</td>\n",
       "    </tr>\n",
       "    <tr>\n",
       "        <td>4</td>\n",
       "        <td>1</td>\n",
       "    </tr>\n",
       "    <tr>\n",
       "        <td>4</td>\n",
       "        <td>2</td>\n",
       "    </tr>\n",
       "    <tr>\n",
       "        <td>4</td>\n",
       "        <td>5</td>\n",
       "    </tr>\n",
       "    <tr>\n",
       "        <td>4</td>\n",
       "        <td>9</td>\n",
       "    </tr>\n",
       "    <tr>\n",
       "        <td>4</td>\n",
       "        <td>1</td>\n",
       "    </tr>\n",
       "    <tr>\n",
       "        <td>4</td>\n",
       "        <td>3</td>\n",
       "    </tr>\n",
       "    <tr>\n",
       "        <td>4</td>\n",
       "        <td>6</td>\n",
       "    </tr>\n",
       "    <tr>\n",
       "        <td>4</td>\n",
       "        <td>7</td>\n",
       "    </tr>\n",
       "    <tr>\n",
       "        <td>4</td>\n",
       "        <td>9</td>\n",
       "    </tr>\n",
       "    <tr>\n",
       "        <td>5</td>\n",
       "        <td>3</td>\n",
       "    </tr>\n",
       "    <tr>\n",
       "        <td>5</td>\n",
       "        <td>1</td>\n",
       "    </tr>\n",
       "    <tr>\n",
       "        <td>5</td>\n",
       "        <td>2</td>\n",
       "    </tr>\n",
       "    <tr>\n",
       "        <td>5</td>\n",
       "        <td>3</td>\n",
       "    </tr>\n",
       "    <tr>\n",
       "        <td>5</td>\n",
       "        <td>4</td>\n",
       "    </tr>\n",
       "    <tr>\n",
       "        <td>5</td>\n",
       "        <td>9</td>\n",
       "    </tr>\n",
       "    <tr>\n",
       "        <td>5</td>\n",
       "        <td>1</td>\n",
       "    </tr>\n",
       "    <tr>\n",
       "        <td>5</td>\n",
       "        <td>4</td>\n",
       "    </tr>\n",
       "    <tr>\n",
       "        <td>5</td>\n",
       "        <td>9</td>\n",
       "    </tr>\n",
       "    <tr>\n",
       "        <td>6</td>\n",
       "        <td>1</td>\n",
       "    </tr>\n",
       "    <tr>\n",
       "        <td>6</td>\n",
       "        <td>2</td>\n",
       "    </tr>\n",
       "    <tr>\n",
       "        <td>6</td>\n",
       "        <td>3</td>\n",
       "    </tr>\n",
       "    <tr>\n",
       "        <td>6</td>\n",
       "        <td>7</td>\n",
       "    </tr>\n",
       "    <tr>\n",
       "        <td>6</td>\n",
       "        <td>9</td>\n",
       "    </tr>\n",
       "    <tr>\n",
       "        <td>6</td>\n",
       "        <td>1</td>\n",
       "    </tr>\n",
       "    <tr>\n",
       "        <td>6</td>\n",
       "        <td>9</td>\n",
       "    </tr>\n",
       "    <tr>\n",
       "        <td>6</td>\n",
       "        <td>1</td>\n",
       "    </tr>\n",
       "    <tr>\n",
       "        <td>6</td>\n",
       "        <td>3</td>\n",
       "    </tr>\n",
       "    <tr>\n",
       "        <td>6</td>\n",
       "        <td>7</td>\n",
       "    </tr>\n",
       "    <tr>\n",
       "        <td>6</td>\n",
       "        <td>9</td>\n",
       "    </tr>\n",
       "    <tr>\n",
       "        <td>7</td>\n",
       "        <td>2</td>\n",
       "    </tr>\n",
       "    <tr>\n",
       "        <td>7</td>\n",
       "        <td>1</td>\n",
       "    </tr>\n",
       "    <tr>\n",
       "        <td>7</td>\n",
       "        <td>3</td>\n",
       "    </tr>\n",
       "    <tr>\n",
       "        <td>7</td>\n",
       "        <td>6</td>\n",
       "    </tr>\n",
       "    <tr>\n",
       "        <td>7</td>\n",
       "        <td>9</td>\n",
       "    </tr>\n",
       "    <tr>\n",
       "        <td>7</td>\n",
       "        <td>1</td>\n",
       "    </tr>\n",
       "    <tr>\n",
       "        <td>7</td>\n",
       "        <td>9</td>\n",
       "    </tr>\n",
       "    <tr>\n",
       "        <td>8</td>\n",
       "        <td>1</td>\n",
       "    </tr>\n",
       "    <tr>\n",
       "        <td>8</td>\n",
       "        <td>4</td>\n",
       "    </tr>\n",
       "    <tr>\n",
       "        <td>8</td>\n",
       "        <td>5</td>\n",
       "    </tr>\n",
       "    <tr>\n",
       "        <td>8</td>\n",
       "        <td>9</td>\n",
       "    </tr>\n",
       "    <tr>\n",
       "        <td>8</td>\n",
       "        <td>1</td>\n",
       "    </tr>\n",
       "    <tr>\n",
       "        <td>8</td>\n",
       "        <td>2</td>\n",
       "    </tr>\n",
       "    <tr>\n",
       "        <td>8</td>\n",
       "        <td>4</td>\n",
       "    </tr>\n",
       "    <tr>\n",
       "        <td>8</td>\n",
       "        <td>5</td>\n",
       "    </tr>\n",
       "    <tr>\n",
       "        <td>8</td>\n",
       "        <td>9</td>\n",
       "    </tr>\n",
       "    <tr>\n",
       "        <td>9</td>\n",
       "        <td>1</td>\n",
       "    </tr>\n",
       "    <tr>\n",
       "        <td>9</td>\n",
       "        <td>2</td>\n",
       "    </tr>\n",
       "    <tr>\n",
       "        <td>9</td>\n",
       "        <td>3</td>\n",
       "    </tr>\n",
       "    <tr>\n",
       "        <td>9</td>\n",
       "        <td>4</td>\n",
       "    </tr>\n",
       "    <tr>\n",
       "        <td>9</td>\n",
       "        <td>5</td>\n",
       "    </tr>\n",
       "    <tr>\n",
       "        <td>9</td>\n",
       "        <td>1</td>\n",
       "    </tr>\n",
       "    <tr>\n",
       "        <td>9</td>\n",
       "        <td>2</td>\n",
       "    </tr>\n",
       "    <tr>\n",
       "        <td>9</td>\n",
       "        <td>1</td>\n",
       "    </tr>\n",
       "    <tr>\n",
       "        <td>9</td>\n",
       "        <td>2</td>\n",
       "    </tr>\n",
       "    <tr>\n",
       "        <td>9</td>\n",
       "        <td>5</td>\n",
       "    </tr>\n",
       "    <tr>\n",
       "        <td>9</td>\n",
       "        <td>2</td>\n",
       "    </tr>\n",
       "    <tr>\n",
       "        <td>9</td>\n",
       "        <td>7</td>\n",
       "    </tr>\n",
       "    <tr>\n",
       "        <td>9</td>\n",
       "        <td>1</td>\n",
       "    </tr>\n",
       "    <tr>\n",
       "        <td>9</td>\n",
       "        <td>6</td>\n",
       "    </tr>\n",
       "</table>"
      ],
      "text/plain": [
       "[(1, 3),\n",
       " (1, 9),\n",
       " (1, 2),\n",
       " (1, 5),\n",
       " (1, 2),\n",
       " (1, 7),\n",
       " (1, 9),\n",
       " (1, 9),\n",
       " (1, 9),\n",
       " (2, 3),\n",
       " (2, 1),\n",
       " (2, 1),\n",
       " (2, 4),\n",
       " (2, 5),\n",
       " (2, 8),\n",
       " (2, 9),\n",
       " (2, 5),\n",
       " (3, 1),\n",
       " (3, 2),\n",
       " (3, 4),\n",
       " (3, 9),\n",
       " (3, 1),\n",
       " (3, 2),\n",
       " (3, 4),\n",
       " (3, 5),\n",
       " (3, 8),\n",
       " (3, 9),\n",
       " (3, 1),\n",
       " (3, 2),\n",
       " (3, 4),\n",
       " (3, 5),\n",
       " (3, 8),\n",
       " (3, 9),\n",
       " (3, 1),\n",
       " (3, 2),\n",
       " (3, 7),\n",
       " (3, 9),\n",
       " (3, 1),\n",
       " (3, 6),\n",
       " (3, 9),\n",
       " (3, 1),\n",
       " (3, 7),\n",
       " (3, 9),\n",
       " (4, 1),\n",
       " (4, 2),\n",
       " (4, 3),\n",
       " (4, 5),\n",
       " (4, 1),\n",
       " (4, 2),\n",
       " (4, 9),\n",
       " (4, 1),\n",
       " (4, 9),\n",
       " (4, 1),\n",
       " (4, 2),\n",
       " (4, 5),\n",
       " (4, 9),\n",
       " (4, 1),\n",
       " (4, 3),\n",
       " (4, 6),\n",
       " (4, 7),\n",
       " (4, 9),\n",
       " (5, 3),\n",
       " (5, 1),\n",
       " (5, 2),\n",
       " (5, 3),\n",
       " (5, 4),\n",
       " (5, 9),\n",
       " (5, 1),\n",
       " (5, 4),\n",
       " (5, 9),\n",
       " (6, 1),\n",
       " (6, 2),\n",
       " (6, 3),\n",
       " (6, 7),\n",
       " (6, 9),\n",
       " (6, 1),\n",
       " (6, 9),\n",
       " (6, 1),\n",
       " (6, 3),\n",
       " (6, 7),\n",
       " (6, 9),\n",
       " (7, 2),\n",
       " (7, 1),\n",
       " (7, 3),\n",
       " (7, 6),\n",
       " (7, 9),\n",
       " (7, 1),\n",
       " (7, 9),\n",
       " (8, 1),\n",
       " (8, 4),\n",
       " (8, 5),\n",
       " (8, 9),\n",
       " (8, 1),\n",
       " (8, 2),\n",
       " (8, 4),\n",
       " (8, 5),\n",
       " (8, 9),\n",
       " (9, 1),\n",
       " (9, 2),\n",
       " (9, 3),\n",
       " (9, 4),\n",
       " (9, 5),\n",
       " (9, 1),\n",
       " (9, 2),\n",
       " (9, 1),\n",
       " (9, 2),\n",
       " (9, 5),\n",
       " (9, 2),\n",
       " (9, 7),\n",
       " (9, 1),\n",
       " (9, 6)]"
      ]
     },
     "execution_count": 24,
     "metadata": {},
     "output_type": "execute_result"
    }
   ],
   "source": [
    "%%sql\n",
    "SELECT c.sid AS sid1, c2.sid AS sid2\n",
    "FROM Catalog c, Catalog c2\n",
    "WHERE c.pid = c2.pid AND c.sid <> c2.sid\n",
    "AND c.cost > c2.cost"
   ]
  },
  {
   "cell_type": "markdown",
   "metadata": {},
   "source": [
    "** 10) Find the pids of parts supplied by at least two different suppliers. **"
   ]
  },
  {
   "cell_type": "code",
   "execution_count": 25,
   "metadata": {
    "collapsed": false
   },
   "outputs": [
    {
     "name": "stdout",
     "output_type": "stream",
     "text": [
      "Done.\n"
     ]
    },
    {
     "data": {
      "text/html": [
       "<table>\n",
       "    <tr>\n",
       "        <th>pid</th>\n",
       "    </tr>\n",
       "    <tr>\n",
       "        <td>1</td>\n",
       "    </tr>\n",
       "    <tr>\n",
       "        <td>2</td>\n",
       "    </tr>\n",
       "    <tr>\n",
       "        <td>3</td>\n",
       "    </tr>\n",
       "    <tr>\n",
       "        <td>4</td>\n",
       "    </tr>\n",
       "    <tr>\n",
       "        <td>5</td>\n",
       "    </tr>\n",
       "    <tr>\n",
       "        <td>6</td>\n",
       "    </tr>\n",
       "    <tr>\n",
       "        <td>7</td>\n",
       "    </tr>\n",
       "    <tr>\n",
       "        <td>8</td>\n",
       "    </tr>\n",
       "</table>"
      ],
      "text/plain": [
       "[(1,), (2,), (3,), (4,), (5,), (6,), (7,), (8,)]"
      ]
     },
     "execution_count": 25,
     "metadata": {},
     "output_type": "execute_result"
    }
   ],
   "source": [
    "%%sql\n",
    "SELECT DISTINCT c.pid\n",
    "FROM Catalog c, Catalog c2\n",
    "WHERE c.pid = c2.pid AND c.sid <> c2.sid"
   ]
  },
  {
   "cell_type": "markdown",
   "metadata": {},
   "source": [
    "** 11) Find the pids of the most expensive parts supplied by suppliers named Yosemite Sham. **"
   ]
  },
  {
   "cell_type": "code",
   "execution_count": 26,
   "metadata": {
    "collapsed": false
   },
   "outputs": [
    {
     "name": "stdout",
     "output_type": "stream",
     "text": [
      "Done.\n"
     ]
    },
    {
     "data": {
      "text/html": [
       "<table>\n",
       "    <tr>\n",
       "        <th>pid</th>\n",
       "    </tr>\n",
       "    <tr>\n",
       "        <td>2</td>\n",
       "    </tr>\n",
       "</table>"
      ],
      "text/plain": [
       "[(2,)]"
      ]
     },
     "execution_count": 26,
     "metadata": {},
     "output_type": "execute_result"
    }
   ],
   "source": [
    "%%sql\n",
    "SELECT c.pid\n",
    "FROM Catalog c, Suppliers s\n",
    "WHERE c.sid = s.sid\n",
    "AND s.sname = 'Yosemite Sham'\n",
    "AND c.cost >= (SELECT MAX(c2.cost)\n",
    "    FROM Catalog c2, Suppliers s2\n",
    "    WHERE c2.sid = s2.sid\n",
    "    AND s2.sname = 'Yosemite Sham'\n",
    "    GROUP BY c2.sid\n",
    ")"
   ]
  }
 ],
 "metadata": {
  "anaconda-cloud": {},
  "kernelspec": {
   "display_name": "Python [default]",
   "language": "python",
   "name": "python2"
  },
  "language_info": {
   "codemirror_mode": {
    "name": "ipython",
    "version": 2
   },
   "file_extension": ".py",
   "mimetype": "text/x-python",
   "name": "python",
   "nbconvert_exporter": "python",
   "pygments_lexer": "ipython2",
   "version": "2.7.12"
  }
 },
 "nbformat": 4,
 "nbformat_minor": 2
}
