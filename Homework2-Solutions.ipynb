{
 "cells": [
  {
   "cell_type": "markdown",
   "metadata": {},
   "source": [
    "## Homework 2 Solutions\n",
    "\n",
    "**Q2** Translate the E/R diagram from Q1 into a relational schema within Jupyter notebook. Make\n",
    "note of which entities and/or relationships are being captured by each constructed table."
   ]
  },
  {
   "cell_type": "code",
   "execution_count": 1,
   "metadata": {
    "collapsed": false
   },
   "outputs": [
    {
     "data": {
      "text/plain": [
       "u'Connected: None@'"
      ]
     },
     "execution_count": 1,
     "metadata": {},
     "output_type": "execute_result"
    }
   ],
   "source": [
    "%load_ext sql \n",
    "%sql sqlite:///"
   ]
  },
  {
   "cell_type": "code",
   "execution_count": 2,
   "metadata": {
    "collapsed": false
   },
   "outputs": [
    {
     "name": "stdout",
     "output_type": "stream",
     "text": [
      "Done.\n",
      "Done.\n"
     ]
    },
    {
     "data": {
      "text/plain": [
       "[]"
      ]
     },
     "execution_count": 2,
     "metadata": {},
     "output_type": "execute_result"
    }
   ],
   "source": [
    "%%sql \n",
    "/* Author entity set */\n",
    "DROP TABLE IF EXISTS Author; \n",
    "CREATE TABLE Author \n",
    "( \n",
    "    a_name VARCHAR(100) PRIMARY KEY\n",
    ") "
   ]
  },
  {
   "cell_type": "code",
   "execution_count": 3,
   "metadata": {
    "collapsed": false
   },
   "outputs": [
    {
     "name": "stdout",
     "output_type": "stream",
     "text": [
      "Done.\n",
      "Done.\n"
     ]
    },
    {
     "data": {
      "text/plain": [
       "[]"
      ]
     },
     "execution_count": 3,
     "metadata": {},
     "output_type": "execute_result"
    }
   ],
   "source": [
    "%%sql \n",
    "/* Book Entity set and Primary author relationship */\n",
    "DROP TABLE IF EXISTS Book; \n",
    "CREATE TABLE Book \n",
    "( \n",
    "    b_title VARCHAR(200) PRIMARY KEY,\n",
    "    primary_author VARCHAR(100) NOT NULL,\n",
    "    FOREIGN KEY(primary_author) REFERENCES Author(a_name)\n",
    ") "
   ]
  },
  {
   "cell_type": "code",
   "execution_count": 4,
   "metadata": {
    "collapsed": false
   },
   "outputs": [
    {
     "name": "stdout",
     "output_type": "stream",
     "text": [
      "Done.\n",
      "Done.\n"
     ]
    },
    {
     "data": {
      "text/plain": [
       "[]"
      ]
     },
     "execution_count": 4,
     "metadata": {},
     "output_type": "execute_result"
    }
   ],
   "source": [
    "%%sql \n",
    "/* Co-author relationship */\n",
    "DROP TABLE IF EXISTS Coauthors; \n",
    "CREATE TABLE Coauthors\n",
    "( \n",
    "    b_title VARCHAR(200),\n",
    "    a_name VARCHAR(100),\n",
    "    PRIMARY KEY(b_title, a_name),\n",
    "    FOREIGN KEY(b_title) REFERENCES Book(b_title),\n",
    "    FOREIGN KEY(a_name) REFERENCES Author(a_name)\n",
    ") "
   ]
  },
  {
   "cell_type": "code",
   "execution_count": 5,
   "metadata": {
    "collapsed": false
   },
   "outputs": [
    {
     "name": "stdout",
     "output_type": "stream",
     "text": [
      "Done.\n",
      "Done.\n"
     ]
    },
    {
     "data": {
      "text/plain": [
       "[]"
      ]
     },
     "execution_count": 5,
     "metadata": {},
     "output_type": "execute_result"
    }
   ],
   "source": [
    "%%sql \n",
    "/* Subject entity set */\n",
    "DROP TABLE IF EXISTS Subject; \n",
    "CREATE TABLE Subject \n",
    "( \n",
    "    s_name VARCHAR(50) PRIMARY KEY\n",
    ") "
   ]
  },
  {
   "cell_type": "code",
   "execution_count": 6,
   "metadata": {
    "collapsed": false
   },
   "outputs": [
    {
     "name": "stdout",
     "output_type": "stream",
     "text": [
      "Done.\n",
      "Done.\n"
     ]
    },
    {
     "data": {
      "text/plain": [
       "[]"
      ]
     },
     "execution_count": 6,
     "metadata": {},
     "output_type": "execute_result"
    }
   ],
   "source": [
    "%%sql \n",
    "/* Book-Subject relationship */\n",
    "DROP TABLE IF EXISTS Book_subject; \n",
    "CREATE TABLE Book_subject\n",
    "(\n",
    "    b_title VARCHAR(200),\n",
    "    s_name VARCHAR(50),\n",
    "    PRIMARY KEY(b_title, s_name),\n",
    "    FOREIGN KEY(b_title) REFERENCES Book(b_title),\n",
    "    FOREIGN KEY(s_name) REFERENCES Subject(s_name)    \n",
    ")\n",
    "/** NOTE: Cannot capture constraint that Book must have at least one subject. \n",
    "    One option to do this could be to add a primary_subject relationship between \n",
    "    Book and Subject (similar to Primary vs. Co-author). This note applies to all\n",
    "    the \"one or more\" requirements, e.g., retailer focus or sales. */"
   ]
  },
  {
   "cell_type": "code",
   "execution_count": 7,
   "metadata": {
    "collapsed": false
   },
   "outputs": [
    {
     "name": "stdout",
     "output_type": "stream",
     "text": [
      "Done.\n",
      "Done.\n"
     ]
    },
    {
     "data": {
      "text/plain": [
       "[]"
      ]
     },
     "execution_count": 7,
     "metadata": {},
     "output_type": "execute_result"
    }
   ],
   "source": [
    "%%sql \n",
    "/* Edition weak entity set and Version relationship */\n",
    "DROP TABLE IF EXISTS Edition; \n",
    "CREATE TABLE Edition \n",
    "( \n",
    "    b_title VARCHAR(200), \n",
    "    e_no INTEGER, \n",
    "    e_date DATETIME, \n",
    "    PRIMARY KEY(b_title, e_no),\n",
    "    FOREIGN KEY(b_title) REFERENCES Book(b_title) \n",
    ") "
   ]
  },
  {
   "cell_type": "code",
   "execution_count": 8,
   "metadata": {
    "collapsed": false
   },
   "outputs": [
    {
     "name": "stdout",
     "output_type": "stream",
     "text": [
      "Done.\n",
      "Done.\n"
     ]
    },
    {
     "data": {
      "text/plain": [
       "[]"
      ]
     },
     "execution_count": 8,
     "metadata": {},
     "output_type": "execute_result"
    }
   ],
   "source": [
    "%%sql \n",
    "/* Retailer entity set */\n",
    "DROP TABLE IF EXISTS Retailer; \n",
    "CREATE TABLE Retailer \n",
    "( \n",
    "    r_name VARCHAR(100) PRIMARY KEY\n",
    ")"
   ]
  },
  {
   "cell_type": "code",
   "execution_count": 9,
   "metadata": {
    "collapsed": false
   },
   "outputs": [
    {
     "name": "stdout",
     "output_type": "stream",
     "text": [
      "Done.\n",
      "Done.\n"
     ]
    },
    {
     "data": {
      "text/plain": [
       "[]"
      ]
     },
     "execution_count": 9,
     "metadata": {},
     "output_type": "execute_result"
    }
   ],
   "source": [
    "%%sql \n",
    "/* Retailer focus_on Subject relationship */\n",
    "DROP TABLE IF EXISTS Focus; \n",
    "CREATE TABLE Focus\n",
    "(\n",
    "    r_name VARCHAR(100),\n",
    "    s_name VARCHAR(50),\n",
    "    PRIMARY KEY(r_name, s_name),\n",
    "    FOREIGN KEY(r_name) REFERENCES Retailer(r_name),\n",
    "    FOREIGN KEY(s_name) REFERENCES Subject(s_name)    \n",
    ")"
   ]
  },
  {
   "cell_type": "code",
   "execution_count": 10,
   "metadata": {
    "collapsed": false
   },
   "outputs": [
    {
     "name": "stdout",
     "output_type": "stream",
     "text": [
      "Done.\n",
      "Done.\n"
     ]
    },
    {
     "data": {
      "text/plain": [
       "[]"
      ]
     },
     "execution_count": 10,
     "metadata": {},
     "output_type": "execute_result"
    }
   ],
   "source": [
    "%%sql \n",
    "/* Retailer sells Edition relationship */\n",
    "DROP TABLE IF EXISTS Sales; \n",
    "CREATE TABLE Sales\n",
    "(\n",
    "    r_name VARCHAR(100),\n",
    "    b_title VARCHAR(200), \n",
    "    e_no INTEGER, \n",
    "    e_price FLOAT, \n",
    "    PRIMARY KEY(r_name, b_title, e_no),\n",
    "    FOREIGN KEY(b_title, e_no) REFERENCES Edition(b_title, e_no) \n",
    "    FOREIGN KEY(r_name) REFERENCES Retailer(r_name)   \n",
    ")"
   ]
  },
  {
   "cell_type": "markdown",
   "metadata": {},
   "source": [
    "**Q3** Translate the E/R diagram from slide 24 in the 3-ER-Solutions slide deck, representing our\n",
    "simplified company database, into a relational schema within Jupyter notebook. Make note of which\n",
    "entities and/or relationships are being captured by each constructed table.\n"
   ]
  },
  {
   "cell_type": "code",
   "execution_count": 11,
   "metadata": {
    "collapsed": false
   },
   "outputs": [
    {
     "name": "stdout",
     "output_type": "stream",
     "text": [
      "Done.\n",
      "Done.\n"
     ]
    },
    {
     "data": {
      "text/plain": [
       "[]"
      ]
     },
     "execution_count": 11,
     "metadata": {},
     "output_type": "execute_result"
    }
   ],
   "source": [
    "%%sql \n",
    "/*  DEPARTMENT entity set */\n",
    "DROP TABLE IF EXISTS DEPARTMENT; \n",
    "CREATE TABLE DEPARTMENT \n",
    "( \n",
    "    Name VARCHAR(80) PRIMARY KEY, \n",
    "    Number INTEGER \n",
    ") "
   ]
  },
  {
   "cell_type": "code",
   "execution_count": 12,
   "metadata": {
    "collapsed": false
   },
   "outputs": [
    {
     "name": "stdout",
     "output_type": "stream",
     "text": [
      "Done.\n",
      "Done.\n"
     ]
    },
    {
     "data": {
      "text/plain": [
       "[]"
      ]
     },
     "execution_count": 12,
     "metadata": {},
     "output_type": "execute_result"
    }
   ],
   "source": [
    "%%sql \n",
    "/* EMPLOYEE entity set, and Supervision, Works_For, Manages relationships. */\n",
    "DROP TABLE IF EXISTS EMPLOYEE; \n",
    "CREATE TABLE EMPLOYEE \n",
    "( \n",
    "    SSN BIGINT PRIMARY KEY, \n",
    "    Bdate DATE,\n",
    "    Name VARCHAR(80), \n",
    "    Address VARCHAR(200), \n",
    "    Salary FLOAT, \n",
    "    Sex CHAR(1),\n",
    "    Supervisor_SSN BIGINT DEFAULT NULL,\n",
    "    Department_Name VARCHAR(80) DEFAULT NULL,\n",
    "    Manager_Of VARCHAR(80) DEFAULT NULL,\n",
    "    Manager_start_date DATE DEFAULT NULL,\n",
    "    FOREIGN KEY(Supervisor_SSN) REFERENCES EMPLOYEE(SSN),\n",
    "    FOREIGN KEY(Manager_Of) REFERENCES DEPARTMENT(Name)\n",
    ") "
   ]
  },
  {
   "cell_type": "code",
   "execution_count": 13,
   "metadata": {
    "collapsed": false
   },
   "outputs": [
    {
     "name": "stdout",
     "output_type": "stream",
     "text": [
      "Done.\n",
      "Done.\n"
     ]
    },
    {
     "data": {
      "text/plain": [
       "[]"
      ]
     },
     "execution_count": 13,
     "metadata": {},
     "output_type": "execute_result"
    }
   ],
   "source": [
    "%%sql \n",
    "/* PROJECT entity set and Controls relationship */\n",
    "DROP TABLE IF EXISTS PROJECT; \n",
    "CREATE TABLE PROJECT \n",
    "( \n",
    "    Name VARCHAR(100), \n",
    "    Number INTEGER,\n",
    "    Controlled_by VARCHAR(80),\n",
    "    PRIMARY KEY(Name, Number),\n",
    "    FOREIGN KEY(Controlled_by) REFERENCES DEPARTMENT(Name)\n",
    ") "
   ]
  },
  {
   "cell_type": "code",
   "execution_count": 14,
   "metadata": {
    "collapsed": false
   },
   "outputs": [
    {
     "name": "stdout",
     "output_type": "stream",
     "text": [
      "Done.\n",
      "Done.\n"
     ]
    },
    {
     "data": {
      "text/plain": [
       "[]"
      ]
     },
     "execution_count": 14,
     "metadata": {},
     "output_type": "execute_result"
    }
   ],
   "source": [
    "%%sql \n",
    "/*  LOCATION weak entity set */\n",
    "DROP TABLE IF EXISTS LOCATION; \n",
    "CREATE TABLE LOCATION \n",
    "(     \n",
    "    Project_name VARCHAR(100), \n",
    "    Project_number INTEGER, \n",
    "    Location_name VARCHAR(80),  \n",
    "    PRIMARY KEY(Project_name, Project_number, Location_name), \n",
    "    FOREIGN KEY (Project_name, Project_number) REFERENCES Project(Name, Number)\n",
    ") "
   ]
  },
  {
   "cell_type": "code",
   "execution_count": 15,
   "metadata": {
    "collapsed": false
   },
   "outputs": [
    {
     "name": "stdout",
     "output_type": "stream",
     "text": [
      "Done.\n",
      "Done.\n"
     ]
    },
    {
     "data": {
      "text/plain": [
       "[]"
      ]
     },
     "execution_count": 15,
     "metadata": {},
     "output_type": "execute_result"
    }
   ],
   "source": [
    "%%sql \n",
    "/* DEPENDENT weak entity set */\n",
    "DROP TABLE IF EXISTS DEPENDENT; \n",
    "CREATE TABLE DEPENDENT\n",
    "( \n",
    "    Employee_ssn BIGINT, \n",
    "    Name VARCHAR(80), \n",
    "    Sex CHAR(1), \n",
    "    Birth_Date DATE, \n",
    "    Relationship VARCHAR(20), \n",
    "    PRIMARY KEY(Employee_ssn, Name) \n",
    "    FOREIGN KEY(Employee_ssn) REFERENCES EMPLOYEE(SSN) \n",
    ") "
   ]
  },
  {
   "cell_type": "code",
   "execution_count": 16,
   "metadata": {
    "collapsed": false
   },
   "outputs": [
    {
     "name": "stdout",
     "output_type": "stream",
     "text": [
      "Done.\n",
      "Done.\n"
     ]
    },
    {
     "data": {
      "text/plain": [
       "[]"
      ]
     },
     "execution_count": 16,
     "metadata": {},
     "output_type": "execute_result"
    }
   ],
   "source": [
    "%%sql \n",
    "/* WORKS_ON relationship */\n",
    "DROP TABLE IF EXISTS WORKS_ON; \n",
    "CREATE TABLE WORKS_ON \n",
    "( \n",
    "    Employee_ssn BIGINT, \n",
    "    Project_name VARCHAR(100), \n",
    "    Project_number INTEGER, \n",
    "    Hours FLOAT, \n",
    "    PRIMARY KEY(Employee_ssn, Project_name, Project_number), \n",
    "    FOREIGN KEY(Employee_ssn) REFERENCES EMPLOYEE(SSN), \n",
    "    FOREIGN KEY(Project_name, Project_number) REFERENCES Project(Name, Number) \n",
    ")"
   ]
  }
 ],
 "metadata": {
  "anaconda-cloud": {},
  "kernelspec": {
   "display_name": "Python [default]",
   "language": "python",
   "name": "python2"
  },
  "language_info": {
   "codemirror_mode": {
    "name": "ipython",
    "version": 2
   },
   "file_extension": ".py",
   "mimetype": "text/x-python",
   "name": "python",
   "nbconvert_exporter": "python",
   "pygments_lexer": "ipython2",
   "version": "2.7.12"
  }
 },
 "nbformat": 4,
 "nbformat_minor": 1
}
