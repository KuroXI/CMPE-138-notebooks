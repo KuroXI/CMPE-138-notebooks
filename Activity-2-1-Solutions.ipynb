{
 "cells": [
  {
   "cell_type": "markdown",
   "metadata": {},
   "source": [
    "Creating tables in SQL\n",
    "---------------------\n",
    "\n",
    "Before we actually get into basic SQL queries (**asking questions _of_ data in tables**), we'll look at some of the basics about how to **create** tables.\n",
    "\n",
    "**NOTE: Make sure to have a copy of the database file, \"dataset_1.db\", from the last lecture downloaded and in this directory for the below to work!**"
   ]
  },
  {
   "cell_type": "code",
   "execution_count": 1,
   "metadata": {
    "collapsed": false
   },
   "outputs": [
    {
     "data": {
      "text/plain": [
       "u'Connected: None@dataset_1.db'"
      ]
     },
     "execution_count": 1,
     "metadata": {},
     "output_type": "execute_result"
    }
   ],
   "source": [
    "%load_ext sql\n",
    "%sql sqlite:///dataset_1.db"
   ]
  },
  {
   "cell_type": "markdown",
   "metadata": {},
   "source": [
    "Activity 2-1:\n",
    "------------\n",
    "\n",
    "Schemas & table creation"
   ]
  },
  {
   "cell_type": "markdown",
   "metadata": {},
   "source": [
    "Recall that the database we just contains a table (among others), called `precipitation_full`, with the following schema:\n",
    "\n",
    "> * `state_code`\n",
    "> * `station_id`\n",
    "> * `year`\n",
    "> * `month`\n",
    "> * `day`\n",
    "> * `hour`\n",
    "> * `precipitation`\n",
    "> * `flag_1`\n",
    "> * `flag_2`\n",
    "\n",
    "Each tuple in this table describes one hour of rainfall (`precipitation`- in hundredths of an inch) at one station (`station_id`) in one state (`state_code`).  Note that tuples with `hour=25` record the total rainfall for that day, and that we can ignore the values of attributes `flag_1` and `flag_2` for now."
   ]
  },
  {
   "cell_type": "markdown",
   "metadata": {},
   "source": [
    "Now, however, let's see how to view the **schema** of existing tables on your own; there are several ways, including but not limited to:\n",
    "* DESCRIBE tablename\n",
    "* SHOW CREATE TABLE tablename\n",
    "* SHOW COLUMNS tablename\n",
    "\n",
    "Unfortunately, support for these varies widely between DBMSs, and is also limited by our IPython interface (for example sqlite, which we are using, does not support the above; it does have a `.schema tablename` command, however this doesn't work in IPython notebooks...)\n",
    "\n",
    "One that does work for us here though is:"
   ]
  },
  {
   "cell_type": "code",
   "execution_count": 2,
   "metadata": {
    "collapsed": false
   },
   "outputs": [
    {
     "name": "stdout",
     "output_type": "stream",
     "text": [
      "Done.\n"
     ]
    },
    {
     "data": {
      "text/html": [
       "<table>\n",
       "    <tr>\n",
       "        <th>cid</th>\n",
       "        <th>name</th>\n",
       "        <th>type</th>\n",
       "        <th>notnull</th>\n",
       "        <th>dflt_value</th>\n",
       "        <th>pk</th>\n",
       "    </tr>\n",
       "    <tr>\n",
       "        <td>0</td>\n",
       "        <td>state_code</td>\n",
       "        <td>INT</td>\n",
       "        <td>0</td>\n",
       "        <td>None</td>\n",
       "        <td>0</td>\n",
       "    </tr>\n",
       "    <tr>\n",
       "        <td>1</td>\n",
       "        <td>station_id</td>\n",
       "        <td>INT</td>\n",
       "        <td>0</td>\n",
       "        <td>None</td>\n",
       "        <td>0</td>\n",
       "    </tr>\n",
       "    <tr>\n",
       "        <td>2</td>\n",
       "        <td>year</td>\n",
       "        <td>INT</td>\n",
       "        <td>0</td>\n",
       "        <td>None</td>\n",
       "        <td>0</td>\n",
       "    </tr>\n",
       "    <tr>\n",
       "        <td>3</td>\n",
       "        <td>month</td>\n",
       "        <td>INT</td>\n",
       "        <td>0</td>\n",
       "        <td>None</td>\n",
       "        <td>0</td>\n",
       "    </tr>\n",
       "    <tr>\n",
       "        <td>4</td>\n",
       "        <td>day</td>\n",
       "        <td>INT</td>\n",
       "        <td>0</td>\n",
       "        <td>None</td>\n",
       "        <td>0</td>\n",
       "    </tr>\n",
       "    <tr>\n",
       "        <td>5</td>\n",
       "        <td>hour</td>\n",
       "        <td>INT</td>\n",
       "        <td>0</td>\n",
       "        <td>None</td>\n",
       "        <td>0</td>\n",
       "    </tr>\n",
       "    <tr>\n",
       "        <td>6</td>\n",
       "        <td>precipitation</td>\n",
       "        <td>INT</td>\n",
       "        <td>0</td>\n",
       "        <td>None</td>\n",
       "        <td>0</td>\n",
       "    </tr>\n",
       "    <tr>\n",
       "        <td>7</td>\n",
       "        <td>flag_1</td>\n",
       "        <td>VARCHAR(1)</td>\n",
       "        <td>0</td>\n",
       "        <td>None</td>\n",
       "        <td>0</td>\n",
       "    </tr>\n",
       "    <tr>\n",
       "        <td>8</td>\n",
       "        <td>flag_2</td>\n",
       "        <td>VARCHAR(1)</td>\n",
       "        <td>0</td>\n",
       "        <td>None</td>\n",
       "        <td>0</td>\n",
       "    </tr>\n",
       "</table>"
      ],
      "text/plain": [
       "[(0, u'state_code', u'INT', 0, None, 0),\n",
       " (1, u'station_id', u'INT', 0, None, 0),\n",
       " (2, u'year', u'INT', 0, None, 0),\n",
       " (3, u'month', u'INT', 0, None, 0),\n",
       " (4, u'day', u'INT', 0, None, 0),\n",
       " (5, u'hour', u'INT', 0, None, 0),\n",
       " (6, u'precipitation', u'INT', 0, None, 0),\n",
       " (7, u'flag_1', u'VARCHAR(1)', 0, None, 0),\n",
       " (8, u'flag_2', u'VARCHAR(1)', 0, None, 0)]"
      ]
     },
     "execution_count": 2,
     "metadata": {},
     "output_type": "execute_result"
    }
   ],
   "source": [
    "%sql PRAGMA table_info(precipitation_full);"
   ]
  },
  {
   "cell_type": "markdown",
   "metadata": {},
   "source": [
    "A bit verbose, but gets the job done!\n",
    "\n",
    "And, we can get the exact statement used to create the table as follows (**a great way to find guidance here!!**):"
   ]
  },
  {
   "cell_type": "code",
   "execution_count": 3,
   "metadata": {
    "collapsed": false
   },
   "outputs": [
    {
     "name": "stdout",
     "output_type": "stream",
     "text": [
      "Done.\n"
     ]
    },
    {
     "data": {
      "text/html": [
       "<table>\n",
       "    <tr>\n",
       "        <th>sql</th>\n",
       "    </tr>\n",
       "    <tr>\n",
       "        <td>CREATE TABLE precipitation_full(state_code INT, station_id INT, year INT, month INT, day INT, hour INT, precipitation INT, flag_1 VARCHAR(1), flag_2 VARCHAR(1))</td>\n",
       "    </tr>\n",
       "</table>"
      ],
      "text/plain": [
       "[(u'CREATE TABLE precipitation_full(state_code INT, station_id INT, year INT, month INT, day INT, hour INT, precipitation INT, flag_1 VARCHAR(1), flag_2 VARCHAR(1))',)]"
      ]
     },
     "execution_count": 3,
     "metadata": {},
     "output_type": "execute_result"
    }
   ],
   "source": [
    "%sql SELECT sql FROM sqlite_master WHERE name = 'precipitation_full';"
   ]
  },
  {
   "cell_type": "markdown",
   "metadata": {},
   "source": [
    "Without going into full detail (yet), the above table contains one record for each hour at each station, and contains the amount of precipitation that was measured during that hour.\n",
    "\n",
    "Let's create another table that will hold the same information. The name of the new table must not be that of an existing table."
   ]
  },
  {
   "cell_type": "code",
   "execution_count": 4,
   "metadata": {
    "collapsed": false
   },
   "outputs": [
    {
     "name": "stdout",
     "output_type": "stream",
     "text": [
      "Done.\n"
     ]
    },
    {
     "data": {
      "text/plain": [
       "[]"
      ]
     },
     "execution_count": 4,
     "metadata": {},
     "output_type": "execute_result"
    }
   ],
   "source": [
    "%%sql \n",
    "CREATE TABLE precipitation_full_2(\n",
    "    state_code INT, \n",
    "    station_id INT, \n",
    "    year INT, \n",
    "    month INT, \n",
    "    day INT, \n",
    "    hour INT, \n",
    "    precipitation INT, \n",
    "    flag_1 VARCHAR(1), \n",
    "    flag_2 VARCHAR(1)\n",
    ");"
   ]
  },
  {
   "cell_type": "code",
   "execution_count": 5,
   "metadata": {
    "collapsed": false
   },
   "outputs": [
    {
     "name": "stdout",
     "output_type": "stream",
     "text": [
      "Done.\n"
     ]
    },
    {
     "data": {
      "text/html": [
       "<table>\n",
       "    <tr>\n",
       "        <th>cid</th>\n",
       "        <th>name</th>\n",
       "        <th>type</th>\n",
       "        <th>notnull</th>\n",
       "        <th>dflt_value</th>\n",
       "        <th>pk</th>\n",
       "    </tr>\n",
       "    <tr>\n",
       "        <td>0</td>\n",
       "        <td>state_code</td>\n",
       "        <td>INT</td>\n",
       "        <td>0</td>\n",
       "        <td>None</td>\n",
       "        <td>0</td>\n",
       "    </tr>\n",
       "    <tr>\n",
       "        <td>1</td>\n",
       "        <td>station_id</td>\n",
       "        <td>INT</td>\n",
       "        <td>0</td>\n",
       "        <td>None</td>\n",
       "        <td>0</td>\n",
       "    </tr>\n",
       "    <tr>\n",
       "        <td>2</td>\n",
       "        <td>year</td>\n",
       "        <td>INT</td>\n",
       "        <td>0</td>\n",
       "        <td>None</td>\n",
       "        <td>0</td>\n",
       "    </tr>\n",
       "    <tr>\n",
       "        <td>3</td>\n",
       "        <td>month</td>\n",
       "        <td>INT</td>\n",
       "        <td>0</td>\n",
       "        <td>None</td>\n",
       "        <td>0</td>\n",
       "    </tr>\n",
       "    <tr>\n",
       "        <td>4</td>\n",
       "        <td>day</td>\n",
       "        <td>INT</td>\n",
       "        <td>0</td>\n",
       "        <td>None</td>\n",
       "        <td>0</td>\n",
       "    </tr>\n",
       "    <tr>\n",
       "        <td>5</td>\n",
       "        <td>hour</td>\n",
       "        <td>INT</td>\n",
       "        <td>0</td>\n",
       "        <td>None</td>\n",
       "        <td>0</td>\n",
       "    </tr>\n",
       "    <tr>\n",
       "        <td>6</td>\n",
       "        <td>precipitation</td>\n",
       "        <td>INT</td>\n",
       "        <td>0</td>\n",
       "        <td>None</td>\n",
       "        <td>0</td>\n",
       "    </tr>\n",
       "    <tr>\n",
       "        <td>7</td>\n",
       "        <td>flag_1</td>\n",
       "        <td>VARCHAR(1)</td>\n",
       "        <td>0</td>\n",
       "        <td>None</td>\n",
       "        <td>0</td>\n",
       "    </tr>\n",
       "    <tr>\n",
       "        <td>8</td>\n",
       "        <td>flag_2</td>\n",
       "        <td>VARCHAR(1)</td>\n",
       "        <td>0</td>\n",
       "        <td>None</td>\n",
       "        <td>0</td>\n",
       "    </tr>\n",
       "</table>"
      ],
      "text/plain": [
       "[(0, u'state_code', u'INT', 0, None, 0),\n",
       " (1, u'station_id', u'INT', 0, None, 0),\n",
       " (2, u'year', u'INT', 0, None, 0),\n",
       " (3, u'month', u'INT', 0, None, 0),\n",
       " (4, u'day', u'INT', 0, None, 0),\n",
       " (5, u'hour', u'INT', 0, None, 0),\n",
       " (6, u'precipitation', u'INT', 0, None, 0),\n",
       " (7, u'flag_1', u'VARCHAR(1)', 0, None, 0),\n",
       " (8, u'flag_2', u'VARCHAR(1)', 0, None, 0)]"
      ]
     },
     "execution_count": 5,
     "metadata": {},
     "output_type": "execute_result"
    }
   ],
   "source": [
    "%sql PRAGMA table_info(precipitation_full_2);"
   ]
  },
  {
   "cell_type": "code",
   "execution_count": 6,
   "metadata": {
    "collapsed": false
   },
   "outputs": [
    {
     "name": "stdout",
     "output_type": "stream",
     "text": [
      "Done.\n"
     ]
    },
    {
     "data": {
      "text/html": [
       "<table>\n",
       "    <tr>\n",
       "        <th>sql</th>\n",
       "    </tr>\n",
       "    <tr>\n",
       "        <td>CREATE TABLE precipitation_full_2(<br>    state_code INT, <br>    station_id INT, <br>    year INT, <br>    month INT, <br>    day INT, <br>    hour INT, <br>    precipitation INT, <br>    flag_1 VARCHAR(1), <br>    flag_2 VARCHAR(1)<br>)</td>\n",
       "    </tr>\n",
       "</table>"
      ],
      "text/plain": [
       "[(u'CREATE TABLE precipitation_full_2(\\n    state_code INT, \\n    station_id INT, \\n    year INT, \\n    month INT, \\n    day INT, \\n    hour INT, \\n    precipitation INT, \\n    flag_1 VARCHAR(1), \\n    flag_2 VARCHAR(1)\\n)',)]"
      ]
     },
     "execution_count": 6,
     "metadata": {},
     "output_type": "execute_result"
    }
   ],
   "source": [
    "%sql SELECT sql FROM sqlite_master WHERE name = 'precipitation_full_2';"
   ]
  },
  {
   "cell_type": "markdown",
   "metadata": {},
   "source": [
    "Now, let's remove the duplicate table."
   ]
  },
  {
   "cell_type": "code",
   "execution_count": 7,
   "metadata": {
    "collapsed": false
   },
   "outputs": [
    {
     "name": "stdout",
     "output_type": "stream",
     "text": [
      "Done.\n"
     ]
    },
    {
     "data": {
      "text/plain": [
       "[]"
      ]
     },
     "execution_count": 7,
     "metadata": {},
     "output_type": "execute_result"
    }
   ],
   "source": [
    "%sql DROP table 'precipitation_full_2';"
   ]
  },
  {
   "cell_type": "code",
   "execution_count": 8,
   "metadata": {
    "collapsed": false
   },
   "outputs": [
    {
     "name": "stdout",
     "output_type": "stream",
     "text": [
      "(sqlite3.OperationalError) near \"SHOW\": syntax error [SQL: u'SHOW tables;']\n"
     ]
    }
   ],
   "source": [
    "%sql SHOW tables;"
   ]
  },
  {
   "cell_type": "markdown",
   "metadata": {},
   "source": [
    "SQLite does not implement the command \"SHOW tables\". Instead, we can query the table 'sqlite_master'."
   ]
  },
  {
   "cell_type": "code",
   "execution_count": 9,
   "metadata": {
    "collapsed": false
   },
   "outputs": [
    {
     "name": "stdout",
     "output_type": "stream",
     "text": [
      "Done.\n"
     ]
    },
    {
     "data": {
      "text/html": [
       "<table>\n",
       "    <tr>\n",
       "        <th>type</th>\n",
       "        <th>name</th>\n",
       "        <th>tbl_name</th>\n",
       "        <th>rootpage</th>\n",
       "        <th>sql</th>\n",
       "    </tr>\n",
       "    <tr>\n",
       "        <td>table</td>\n",
       "        <td>precipitation_full</td>\n",
       "        <td>precipitation_full</td>\n",
       "        <td>2</td>\n",
       "        <td>CREATE TABLE precipitation_full(state_code INT, station_id INT, year INT, month INT, day INT, hour INT, precipitation INT, flag_1 VARCHAR(1), flag_2 VARCHAR(1))</td>\n",
       "    </tr>\n",
       "    <tr>\n",
       "        <td>table</td>\n",
       "        <td>states</td>\n",
       "        <td>states</td>\n",
       "        <td>468</td>\n",
       "        <td>CREATE TABLE states(code INT, name VARCHAR(30), abbrev VARCHAR(2))</td>\n",
       "    </tr>\n",
       "    <tr>\n",
       "        <td>table</td>\n",
       "        <td>precipitation</td>\n",
       "        <td>precipitation</td>\n",
       "        <td>469</td>\n",
       "        <td>CREATE TABLE precipitation(<br>  station_id INT,<br>  day INT,<br>  precipitation INT<br>)</td>\n",
       "    </tr>\n",
       "    <tr>\n",
       "        <td>table</td>\n",
       "        <td>A</td>\n",
       "        <td>A</td>\n",
       "        <td>472</td>\n",
       "        <td>CREATE TABLE A(i INT, j INT, val INT)</td>\n",
       "    </tr>\n",
       "    <tr>\n",
       "        <td>table</td>\n",
       "        <td>B</td>\n",
       "        <td>B</td>\n",
       "        <td>473</td>\n",
       "        <td>CREATE TABLE B(i INT, j INT, val INT)</td>\n",
       "    </tr>\n",
       "    <tr>\n",
       "        <td>table</td>\n",
       "        <td>streets</td>\n",
       "        <td>streets</td>\n",
       "        <td>474</td>\n",
       "        <td>CREATE TABLE streets(id INT, direction CHAR(1), A text, B text, d INT, PRIMARY KEY (id, direction))</td>\n",
       "    </tr>\n",
       "    <tr>\n",
       "        <td>table</td>\n",
       "        <td>franchise</td>\n",
       "        <td>franchise</td>\n",
       "        <td>476</td>\n",
       "        <td>CREATE TABLE franchise (name TEXT, db_type TEXT)</td>\n",
       "    </tr>\n",
       "    <tr>\n",
       "        <td>table</td>\n",
       "        <td>store</td>\n",
       "        <td>store</td>\n",
       "        <td>477</td>\n",
       "        <td>CREATE TABLE store (franchise TEXT, location TEXT)</td>\n",
       "    </tr>\n",
       "    <tr>\n",
       "        <td>table</td>\n",
       "        <td>bagel</td>\n",
       "        <td>bagel</td>\n",
       "        <td>478</td>\n",
       "        <td>CREATE TABLE bagel (name TEXT, price MONEY, made_by TEXT)</td>\n",
       "    </tr>\n",
       "    <tr>\n",
       "        <td>table</td>\n",
       "        <td>purchase</td>\n",
       "        <td>purchase</td>\n",
       "        <td>479</td>\n",
       "        <td>CREATE TABLE purchase (bagel_name TEXT, franchise TEXT, date INT, quantity INT, purchaser_age INT)</td>\n",
       "    </tr>\n",
       "</table>"
      ],
      "text/plain": [
       "[(u'table', u'precipitation_full', u'precipitation_full', 2, u'CREATE TABLE precipitation_full(state_code INT, station_id INT, year INT, month INT, day INT, hour INT, precipitation INT, flag_1 VARCHAR(1), flag_2 VARCHAR(1))'),\n",
       " (u'table', u'states', u'states', 468, u'CREATE TABLE states(code INT, name VARCHAR(30), abbrev VARCHAR(2))'),\n",
       " (u'table', u'precipitation', u'precipitation', 469, u'CREATE TABLE precipitation(\\n  station_id INT,\\n  day INT,\\n  precipitation INT\\n)'),\n",
       " (u'table', u'A', u'A', 472, u'CREATE TABLE A(i INT, j INT, val INT)'),\n",
       " (u'table', u'B', u'B', 473, u'CREATE TABLE B(i INT, j INT, val INT)'),\n",
       " (u'table', u'streets', u'streets', 474, u'CREATE TABLE streets(id INT, direction CHAR(1), A text, B text, d INT, PRIMARY KEY (id, direction))'),\n",
       " (u'table', u'franchise', u'franchise', 476, u'CREATE TABLE franchise (name TEXT, db_type TEXT)'),\n",
       " (u'table', u'store', u'store', 477, u'CREATE TABLE store (franchise TEXT, location TEXT)'),\n",
       " (u'table', u'bagel', u'bagel', 478, u'CREATE TABLE bagel (name TEXT, price MONEY, made_by TEXT)'),\n",
       " (u'table', u'purchase', u'purchase', 479, u'CREATE TABLE purchase (bagel_name TEXT, franchise TEXT, date INT, quantity INT, purchaser_age INT)')]"
      ]
     },
     "execution_count": 9,
     "metadata": {},
     "output_type": "execute_result"
    }
   ],
   "source": [
    "%sql SELECT * FROM sqlite_master WHERE type='table';"
   ]
  },
  {
   "cell_type": "markdown",
   "metadata": {
    "collapsed": false
   },
   "source": [
    "Now, on to our in-class activity...\n",
    "\n",
    "Suppose that our class was asked to assist in collecting rainfall data!  Based on what\n",
    "we've covered so far, the above example, and the Internet, create a table\n",
    "for storing the staff assignments.  Table requirements:\n",
    "* Everyone in the class will be holding a cup in the rain for \n",
    "a specific several-hour shift at a specific station; this assignment will\n",
    "remain the same every day\n",
    "* Each person will have one off-day per week\n",
    "* Each person's cup might be of a different size, measured as a float value\n",
    "* The Dept. of Interior data servers can't handle the full dataset we would\n",
    "generate, and require a random subsample- so some people will be randomly\n",
    "chosen to stand in the rain without a cup.  These assignments need to be\n",
    "recorded somehow in the table too.\n",
    "* Some people in the class have [Welsh names](https://www.youtube.com/watch?v=fHxO0UdpoxM)\n",
    "\n",
    "Type your create table statement here:\n",
    "\n",
    "*NB:* Remember to start with `%sql` for single line sql or `%%sql`"
   ]
  },
  {
   "cell_type": "code",
   "execution_count": 10,
   "metadata": {
    "collapsed": false
   },
   "outputs": [
    {
     "name": "stdout",
     "output_type": "stream",
     "text": [
      "Done.\n"
     ]
    },
    {
     "data": {
      "text/plain": [
       "[]"
      ]
     },
     "execution_count": 10,
     "metadata": {},
     "output_type": "execute_result"
    }
   ],
   "source": [
    "%%sql\n",
    "CREATE TABLE rain_corps_assignments(\n",
    "    student_id INT PRIMARY KEY,\n",
    "    name VARCHAR(1000),\n",
    "    station_id INT,\n",
    "    state_code INT,\n",
    "    start_hour INT,\n",
    "    end_hour INT,\n",
    "    holding_cup BOOLEAN,\n",
    "    cup_size FLOAT,\n",
    "    off_day INT\n",
    ");"
   ]
  }
 ],
 "metadata": {
  "anaconda-cloud": {},
  "kernelspec": {
   "display_name": "Python [default]",
   "language": "python",
   "name": "python2"
  },
  "language_info": {
   "codemirror_mode": {
    "name": "ipython",
    "version": 2
   },
   "file_extension": ".py",
   "mimetype": "text/x-python",
   "name": "python",
   "nbconvert_exporter": "python",
   "pygments_lexer": "ipython2",
   "version": "2.7.12"
  }
 },
 "nbformat": 4,
 "nbformat_minor": 0
}
